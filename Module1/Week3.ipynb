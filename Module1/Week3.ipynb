{
 "cells": [
  {
   "cell_type": "code",
   "id": "initial_id",
   "metadata": {
    "collapsed": true,
    "ExecuteTime": {
     "end_time": "2024-06-16T12:37:05.477515Z",
     "start_time": "2024-06-16T12:37:05.473762Z"
    }
   },
   "source": [
    "import torch.nn\n",
    "\n",
    "\n",
    "class Softmax(torch.nn.Module):\n",
    "    def __init__(self):\n",
    "        super().__init__()\n",
    "        \n",
    "    def forward(self, x):\n",
    "        sum = torch.exp(x).sum()\n",
    "        return torch.exp(x) / sum"
   ],
   "outputs": [],
   "execution_count": 32
  },
  {
   "metadata": {
    "ExecuteTime": {
     "end_time": "2024-06-16T12:37:05.762328Z",
     "start_time": "2024-06-16T12:37:05.757511Z"
    }
   },
   "cell_type": "code",
   "source": [
    "def softmax_stable(data):\n",
    "    max_val = torch.max(data)\n",
    "    exp = torch.exp(data - max_val)\n",
    "    return exp / torch.sum(exp)"
   ],
   "id": "99800db1ebc1e6a6",
   "outputs": [],
   "execution_count": 33
  },
  {
   "metadata": {
    "ExecuteTime": {
     "end_time": "2024-06-16T12:37:06.119078Z",
     "start_time": "2024-06-16T12:37:06.116654Z"
    }
   },
   "cell_type": "code",
   "source": [
    "# Examples 1\n",
    "data = torch.tensor([1,2,3])\n",
    "softmax = Softmax()\n",
    "softmax_output = softmax(data)\n",
    "print(softmax_output)"
   ],
   "id": "c72f3620537f6214",
   "outputs": [
    {
     "name": "stdout",
     "output_type": "stream",
     "text": [
      "tensor([0.0900, 0.2447, 0.6652])\n"
     ]
    }
   ],
   "execution_count": 34
  },
  {
   "metadata": {
    "ExecuteTime": {
     "end_time": "2024-06-16T12:38:01.093192Z",
     "start_time": "2024-06-16T12:38:01.086910Z"
    }
   },
   "cell_type": "code",
   "source": [
    "# Examples 1\n",
    "softmax_output = softmax_stable(data)\n",
    "print(softmax_output)"
   ],
   "id": "ecda16bafce87bcd",
   "outputs": [
    {
     "name": "stdout",
     "output_type": "stream",
     "text": [
      "tensor([0.0900, 0.2447, 0.6652])\n"
     ]
    }
   ],
   "execution_count": 36
  },
  {
   "metadata": {
    "ExecuteTime": {
     "end_time": "2024-06-16T12:48:21.723387Z",
     "start_time": "2024-06-16T12:48:21.720600Z"
    }
   },
   "cell_type": "code",
   "source": [
    "class Student:\n",
    "    def __init__(self, name, yob, grade):\n",
    "        self.name = name\n",
    "        self.yob = yob\n",
    "        self.grade = grade\n",
    "    def description(self):\n",
    "        return f\"Student: {self.name} was born in {self.yob} and is in grade {self.grade}\""
   ],
   "id": "dcfa7678fe4e9d0",
   "outputs": [],
   "execution_count": 37
  },
  {
   "metadata": {
    "ExecuteTime": {
     "end_time": "2024-06-16T12:48:47.218395Z",
     "start_time": "2024-06-16T12:48:47.216027Z"
    }
   },
   "cell_type": "code",
   "source": [
    "class Teacher:\n",
    "    def __init__(self, name, yob, subject):\n",
    "        self.name = name\n",
    "        self.yob = yob\n",
    "        self.subject = subject\n",
    "    def description(self):\n",
    "        return f\"Teacher: {self.name} was born in {self.yob} and teaches {self.subject}\""
   ],
   "id": "bd70671d071d9d0a",
   "outputs": [],
   "execution_count": 38
  },
  {
   "metadata": {
    "ExecuteTime": {
     "end_time": "2024-06-16T12:49:01.854940Z",
     "start_time": "2024-06-16T12:49:01.851702Z"
    }
   },
   "cell_type": "code",
   "source": [
    "class Doctor:\n",
    "    def __init__(self, name, yob, specialty):\n",
    "        self.name = name\n",
    "        self.yob = yob\n",
    "        self.specialty = specialty\n",
    "    def description(self):\n",
    "        return f\"Doctor: {self.name} was born in {self.yob} and specializes in {self.specialty}\""
   ],
   "id": "ed26a317bb4e8eec",
   "outputs": [],
   "execution_count": 39
  },
  {
   "metadata": {
    "ExecuteTime": {
     "end_time": "2024-06-16T12:49:13.062272Z",
     "start_time": "2024-06-16T12:49:13.059765Z"
    }
   },
   "cell_type": "code",
   "source": [
    "student = Student(\"Alice\", 2000, 12)\n",
    "teacher = Teacher(\"Bob\", 1970, \"Math\")\n",
    "doctor = Doctor(\"Charlie\", 1980, \"Pediatrics\")"
   ],
   "id": "bff16328f679a8b1",
   "outputs": [],
   "execution_count": 40
  },
  {
   "metadata": {
    "ExecuteTime": {
     "end_time": "2024-06-16T12:49:28.212718Z",
     "start_time": "2024-06-16T12:49:28.210722Z"
    }
   },
   "cell_type": "code",
   "source": [
    "print(student.description())\n",
    "print(teacher.description())\n",
    "print(doctor.description())"
   ],
   "id": "70b9d4dc5547a927",
   "outputs": [
    {
     "name": "stdout",
     "output_type": "stream",
     "text": [
      "Student: Alice was born in 2000 and is in grade 12\n",
      "Teacher: Bob was born in 1970 and teaches Math\n",
      "Doctor: Charlie was born in 1980 and specializes in Pediatrics\n"
     ]
    }
   ],
   "execution_count": 41
  },
  {
   "metadata": {
    "ExecuteTime": {
     "end_time": "2024-06-16T13:03:10.792139Z",
     "start_time": "2024-06-16T13:03:10.787399Z"
    }
   },
   "cell_type": "code",
   "source": [
    "class Ward:\n",
    "    def __init__(self, name):\n",
    "        self.name = name\n",
    "        self.people = []\n",
    "    def add_person(self, person):\n",
    "        self.people.append(person)\n",
    "    def description(self):\n",
    "        des = f\"Ward: {self.name} has {len(self.people)} people\"\n",
    "        for person in self.people:\n",
    "            des += f\"\\n{person.description()}\"\n",
    "        return des\n",
    "    def count_doctors(self):\n",
    "        return sum([1 for person in self.people if isinstance(person, Doctor)])\n",
    "    def count_teachers(self):\n",
    "        return sum([1 for person in self.people if isinstance(person, Teacher)])\n",
    "    def sort_age(self):\n",
    "        self.people.sort(key=lambda x: x.yob)\n",
    "    def compute_average(self):\n",
    "        return sum([person.yob for person in self.people if isinstance(person, Teacher)]) / self.count_teachers()\n",
    "    "
   ],
   "id": "3a88c6c588ae37c5",
   "outputs": [],
   "execution_count": 63
  },
  {
   "metadata": {
    "ExecuteTime": {
     "end_time": "2024-06-16T13:03:10.998430Z",
     "start_time": "2024-06-16T13:03:10.989312Z"
    }
   },
   "cell_type": "code",
   "source": [
    "teacher2 = Teacher ( name = \" teacherB \" , yob =1995 , subject = \" History \" )\n",
    "doctor2 = Doctor ( name = \" doctorB \" , yob =1975 , specialty = \" Cardiologists \" )\n",
    "ward = Ward(\"Ward1\")\n",
    "ward.add_person(student)\n",
    "ward.add_person(teacher)\n",
    "ward.add_person(doctor)\n",
    "ward.add_person(teacher2)\n",
    "ward.add_person(doctor2)\n",
    "print(ward.description())"
   ],
   "id": "8e10a6828720933d",
   "outputs": [
    {
     "name": "stdout",
     "output_type": "stream",
     "text": [
      "Ward: Ward1 has 5 people\n",
      "Student: Alice was born in 2000 and is in grade 12\n",
      "Teacher: Bob was born in 1970 and teaches Math\n",
      "Doctor: Charlie was born in 1980 and specializes in Pediatrics\n",
      "Teacher:  teacherB  was born in 1995 and teaches  History \n",
      "Doctor:  doctorB  was born in 1975 and specializes in  Cardiologists \n"
     ]
    }
   ],
   "execution_count": 64
  },
  {
   "metadata": {
    "ExecuteTime": {
     "end_time": "2024-06-16T13:03:11.171175Z",
     "start_time": "2024-06-16T13:03:11.164517Z"
    }
   },
   "cell_type": "code",
   "source": "print(ward.count_doctors())",
   "id": "e9c73ffc25fdd62",
   "outputs": [
    {
     "name": "stdout",
     "output_type": "stream",
     "text": [
      "2\n"
     ]
    }
   ],
   "execution_count": 65
  },
  {
   "metadata": {
    "ExecuteTime": {
     "end_time": "2024-06-16T13:03:11.321881Z",
     "start_time": "2024-06-16T13:03:11.318314Z"
    }
   },
   "cell_type": "code",
   "source": [
    "ward.sort_age()\n",
    "print(ward.description())"
   ],
   "id": "43fa42e3d5827e77",
   "outputs": [
    {
     "name": "stdout",
     "output_type": "stream",
     "text": [
      "Ward: Ward1 has 5 people\n",
      "Teacher: Bob was born in 1970 and teaches Math\n",
      "Doctor:  doctorB  was born in 1975 and specializes in  Cardiologists \n",
      "Doctor: Charlie was born in 1980 and specializes in Pediatrics\n",
      "Teacher:  teacherB  was born in 1995 and teaches  History \n",
      "Student: Alice was born in 2000 and is in grade 12\n"
     ]
    }
   ],
   "execution_count": 66
  },
  {
   "metadata": {
    "ExecuteTime": {
     "end_time": "2024-06-16T13:03:11.470715Z",
     "start_time": "2024-06-16T13:03:11.468425Z"
    }
   },
   "cell_type": "code",
   "source": "print ( f\" \\ nAverage year of birth ( teachers ) : { ward . compute_average () } \" )",
   "id": "50a6f01c4259dadd",
   "outputs": [
    {
     "name": "stdout",
     "output_type": "stream",
     "text": [
      " \\ nAverage year of birth ( teachers ) : 1982.5 \n"
     ]
    }
   ],
   "execution_count": 67
  },
  {
   "metadata": {
    "ExecuteTime": {
     "end_time": "2024-06-16T13:18:58.860787Z",
     "start_time": "2024-06-16T13:18:58.857656Z"
    }
   },
   "cell_type": "code",
   "source": [
    "class MyStack:\n",
    "    def __init__(self, capacity):\n",
    "        self.data = []\n",
    "        self.capacity = capacity\n",
    "    def push(self, x):\n",
    "        self.data.append(x)\n",
    "    def pop(self):\n",
    "        return self.data.pop()\n",
    "    def is_full(self):\n",
    "        return len(self.data) == self.capacity\n",
    "    def is_empty(self):\n",
    "        return len(self.data) == 0\n",
    "    def top(self):\n",
    "        return self.data[-1]"
   ],
   "id": "52d82883eb409096",
   "outputs": [],
   "execution_count": 68
  },
  {
   "metadata": {
    "ExecuteTime": {
     "end_time": "2024-06-16T13:19:08.789126Z",
     "start_time": "2024-06-16T13:19:08.784035Z"
    }
   },
   "cell_type": "code",
   "source": "stack = MyStack(5)",
   "id": "e3952c975163b2ce",
   "outputs": [],
   "execution_count": 70
  },
  {
   "metadata": {
    "ExecuteTime": {
     "end_time": "2024-06-16T13:19:21.388309Z",
     "start_time": "2024-06-16T13:19:21.386073Z"
    }
   },
   "cell_type": "code",
   "source": [
    "stack.push(1)\n",
    "stack.push(2)\n",
    "print(stack.is_full())"
   ],
   "id": "9ad98be758d2d5d8",
   "outputs": [
    {
     "name": "stdout",
     "output_type": "stream",
     "text": [
      "False\n"
     ]
    }
   ],
   "execution_count": 71
  },
  {
   "metadata": {
    "ExecuteTime": {
     "end_time": "2024-06-16T13:19:27.364040Z",
     "start_time": "2024-06-16T13:19:27.362289Z"
    }
   },
   "cell_type": "code",
   "source": "print(stack.top())",
   "id": "b05f9d005fa5000",
   "outputs": [
    {
     "name": "stdout",
     "output_type": "stream",
     "text": [
      "2\n"
     ]
    }
   ],
   "execution_count": 72
  },
  {
   "metadata": {
    "ExecuteTime": {
     "end_time": "2024-06-16T13:19:30.962843Z",
     "start_time": "2024-06-16T13:19:30.960936Z"
    }
   },
   "cell_type": "code",
   "source": "print(stack.pop())",
   "id": "8f18f67c4c0dd7a7",
   "outputs": [
    {
     "name": "stdout",
     "output_type": "stream",
     "text": [
      "2\n"
     ]
    }
   ],
   "execution_count": 73
  },
  {
   "metadata": {
    "ExecuteTime": {
     "end_time": "2024-06-16T13:19:37.621319Z",
     "start_time": "2024-06-16T13:19:37.619355Z"
    }
   },
   "cell_type": "code",
   "source": "print(stack.top())",
   "id": "a52ebbfcd41a0441",
   "outputs": [
    {
     "name": "stdout",
     "output_type": "stream",
     "text": [
      "1\n"
     ]
    }
   ],
   "execution_count": 74
  },
  {
   "metadata": {
    "ExecuteTime": {
     "end_time": "2024-06-16T13:19:45.196062Z",
     "start_time": "2024-06-16T13:19:45.193540Z"
    }
   },
   "cell_type": "code",
   "source": "print(stack.pop())",
   "id": "7913f74865101fda",
   "outputs": [
    {
     "name": "stdout",
     "output_type": "stream",
     "text": [
      "1\n"
     ]
    }
   ],
   "execution_count": 75
  },
  {
   "metadata": {
    "ExecuteTime": {
     "end_time": "2024-06-16T13:19:47.493358Z",
     "start_time": "2024-06-16T13:19:47.491342Z"
    }
   },
   "cell_type": "code",
   "source": "print(stack.is_empty())",
   "id": "eb0eca6374d59aa6",
   "outputs": [
    {
     "name": "stdout",
     "output_type": "stream",
     "text": [
      "True\n"
     ]
    }
   ],
   "execution_count": 76
  },
  {
   "metadata": {
    "ExecuteTime": {
     "end_time": "2024-06-16T13:22:48.157219Z",
     "start_time": "2024-06-16T13:22:48.154198Z"
    }
   },
   "cell_type": "code",
   "source": [
    "class MyQueue:\n",
    "    def __init__(self, capacity):\n",
    "        self.data = []\n",
    "        self.capacity = capacity\n",
    "    def enqueue(self, x):\n",
    "        self.data.append(x)\n",
    "    def dequeue(self):\n",
    "        return self.data.pop(0)\n",
    "    def is_full(self):\n",
    "        return len(self.data) == self.capacity\n",
    "    def is_empty(self):\n",
    "        return len(self.data) == 0\n",
    "    def front(self):\n",
    "        return self.data[0]"
   ],
   "id": "40841b1d2ef457a0",
   "outputs": [],
   "execution_count": 77
  },
  {
   "metadata": {
    "ExecuteTime": {
     "end_time": "2024-06-16T13:23:01.407554Z",
     "start_time": "2024-06-16T13:23:01.405781Z"
    }
   },
   "cell_type": "code",
   "source": [
    "queue = MyQueue(5)\n",
    "queue.enqueue(1)\n",
    "queue.enqueue(2)\n",
    "print(queue.is_full())"
   ],
   "id": "6b4d4f3a9041f556",
   "outputs": [
    {
     "name": "stdout",
     "output_type": "stream",
     "text": [
      "False\n"
     ]
    }
   ],
   "execution_count": 78
  },
  {
   "metadata": {
    "ExecuteTime": {
     "end_time": "2024-06-16T13:23:03.799984Z",
     "start_time": "2024-06-16T13:23:03.797846Z"
    }
   },
   "cell_type": "code",
   "source": "print(queue.front())",
   "id": "e1b33893af5a0dd2",
   "outputs": [
    {
     "name": "stdout",
     "output_type": "stream",
     "text": [
      "1\n"
     ]
    }
   ],
   "execution_count": 79
  },
  {
   "metadata": {
    "ExecuteTime": {
     "end_time": "2024-06-16T13:23:06.314675Z",
     "start_time": "2024-06-16T13:23:06.312531Z"
    }
   },
   "cell_type": "code",
   "source": "print(queue.dequeue())",
   "id": "95508ae3d439ad2c",
   "outputs": [
    {
     "name": "stdout",
     "output_type": "stream",
     "text": [
      "1\n"
     ]
    }
   ],
   "execution_count": 80
  },
  {
   "metadata": {
    "ExecuteTime": {
     "end_time": "2024-06-16T13:23:08.584085Z",
     "start_time": "2024-06-16T13:23:08.581988Z"
    }
   },
   "cell_type": "code",
   "source": "print(queue.front())",
   "id": "f5ce805d5bd1300a",
   "outputs": [
    {
     "name": "stdout",
     "output_type": "stream",
     "text": [
      "2\n"
     ]
    }
   ],
   "execution_count": 81
  },
  {
   "metadata": {
    "ExecuteTime": {
     "end_time": "2024-06-16T13:23:10.469004Z",
     "start_time": "2024-06-16T13:23:10.467337Z"
    }
   },
   "cell_type": "code",
   "source": "print(queue.dequeue())",
   "id": "e4449e32838c5fa5",
   "outputs": [
    {
     "name": "stdout",
     "output_type": "stream",
     "text": [
      "2\n"
     ]
    }
   ],
   "execution_count": 82
  },
  {
   "metadata": {
    "ExecuteTime": {
     "end_time": "2024-06-16T13:23:12.148791Z",
     "start_time": "2024-06-16T13:23:12.141886Z"
    }
   },
   "cell_type": "code",
   "source": "print(queue.is_empty())",
   "id": "8d1d6a68c6228437",
   "outputs": [
    {
     "name": "stdout",
     "output_type": "stream",
     "text": [
      "True\n"
     ]
    }
   ],
   "execution_count": 83
  },
  {
   "metadata": {
    "ExecuteTime": {
     "end_time": "2024-06-16T13:23:37.322032Z",
     "start_time": "2024-06-16T13:23:37.320059Z"
    }
   },
   "cell_type": "code",
   "source": "# Trắc nghiệm",
   "id": "219cafe9e14fcb8b",
   "outputs": [],
   "execution_count": 84
  },
  {
   "metadata": {
    "ExecuteTime": {
     "end_time": "2024-06-16T13:28:00.922696Z",
     "start_time": "2024-06-16T13:28:00.918542Z"
    }
   },
   "cell_type": "code",
   "source": [
    "import torch\n",
    "import torch.nn as nn\n",
    "\n",
    "data = torch.Tensor([1,2,3])\n",
    "softmax_function = nn.Softmax(dim=0)\n",
    "output = softmax_function(data)\n",
    "assert round(output[0].item(), 2) == 0.09\n",
    "output"
   ],
   "id": "8627798526392360",
   "outputs": [
    {
     "data": {
      "text/plain": [
       "tensor([0.0900, 0.2447, 0.6652])"
      ]
     },
     "execution_count": 85,
     "metadata": {},
     "output_type": "execute_result"
    }
   ],
   "execution_count": 85
  },
  {
   "metadata": {
    "ExecuteTime": {
     "end_time": "2024-06-16T13:29:12.025720Z",
     "start_time": "2024-06-16T13:29:12.019274Z"
    }
   },
   "cell_type": "code",
   "source": [
    "data = torch.Tensor([5,2,4])\n",
    "output = softmax_function(data)\n",
    "assert round(output[-1].item(), 2) == 0.26\n",
    "output"
   ],
   "id": "ee747c6e6c317eff",
   "outputs": [
    {
     "data": {
      "text/plain": [
       "tensor([0.7054, 0.0351, 0.2595])"
      ]
     },
     "execution_count": 87,
     "metadata": {},
     "output_type": "execute_result"
    }
   ],
   "execution_count": 87
  },
  {
   "metadata": {
    "ExecuteTime": {
     "end_time": "2024-06-16T13:30:55.532566Z",
     "start_time": "2024-06-16T13:30:55.528969Z"
    }
   },
   "cell_type": "code",
   "source": [
    "data = torch.Tensor([1,2,300000000])\n",
    "output = softmax_function(data)\n",
    "assert round(output[0].item(), 2) == 0.0\n",
    "output"
   ],
   "id": "9167a355c02b7217",
   "outputs": [
    {
     "data": {
      "text/plain": [
       "tensor([0., 0., 1.])"
      ]
     },
     "execution_count": 90,
     "metadata": {},
     "output_type": "execute_result"
    }
   ],
   "execution_count": 90
  },
  {
   "metadata": {
    "ExecuteTime": {
     "end_time": "2024-06-16T13:32:14.124608Z",
     "start_time": "2024-06-16T13:32:14.121062Z"
    }
   },
   "cell_type": "code",
   "source": [
    "data = torch.Tensor([1,2,3])\n",
    "output = softmax_stable ( data )\n",
    "assert round(output[-1].item(), 2) == 0.67\n",
    "output"
   ],
   "id": "71f4cc8b933eaa57",
   "outputs": [
    {
     "data": {
      "text/plain": [
       "tensor([0.0900, 0.2447, 0.6652])"
      ]
     },
     "execution_count": 91,
     "metadata": {},
     "output_type": "execute_result"
    }
   ],
   "execution_count": 91
  },
  {
   "metadata": {
    "ExecuteTime": {
     "end_time": "2024-06-16T14:16:11.060547Z",
     "start_time": "2024-06-16T14:16:11.052940Z"
    }
   },
   "cell_type": "code",
   "source": [
    "stack1 = MyStack(5)\n",
    "stack1.push(1)\n",
    "assert stack1.is_full() == False\n",
    "stack1.push(2)\n",
    "print(stack1.top())"
   ],
   "id": "48eaaaecc9a32cb4",
   "outputs": [
    {
     "name": "stdout",
     "output_type": "stream",
     "text": [
      "2\n"
     ]
    }
   ],
   "execution_count": 93
  },
  {
   "metadata": {
    "ExecuteTime": {
     "end_time": "2024-06-16T14:16:57.534053Z",
     "start_time": "2024-06-16T14:16:57.528326Z"
    }
   },
   "cell_type": "code",
   "source": [
    "queue1 = MyQueue(5)\n",
    "queue1.enqueue(1)\n",
    "assert queue1.is_full() == False\n",
    "queue1.enqueue(2)\n",
    "queue1.front()"
   ],
   "id": "ac677ec6f926db08",
   "outputs": [
    {
     "data": {
      "text/plain": [
       "1"
      ]
     },
     "execution_count": 95,
     "metadata": {},
     "output_type": "execute_result"
    }
   ],
   "execution_count": 95
  },
  {
   "metadata": {},
   "cell_type": "code",
   "outputs": [],
   "execution_count": null,
   "source": "",
   "id": "79bc34d0ace1f8c1"
  }
 ],
 "metadata": {
  "kernelspec": {
   "display_name": "Python 3",
   "language": "python",
   "name": "python3"
  },
  "language_info": {
   "codemirror_mode": {
    "name": "ipython",
    "version": 2
   },
   "file_extension": ".py",
   "mimetype": "text/x-python",
   "name": "python",
   "nbconvert_exporter": "python",
   "pygments_lexer": "ipython2",
   "version": "2.7.6"
  }
 },
 "nbformat": 4,
 "nbformat_minor": 5
}
