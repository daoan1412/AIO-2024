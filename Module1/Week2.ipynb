{
 "cells": [
  {
   "cell_type": "code",
   "id": "initial_id",
   "metadata": {
    "collapsed": true,
    "ExecuteTime": {
     "end_time": "2024-06-09T14:38:30.509029Z",
     "start_time": "2024-06-09T14:38:30.502631Z"
    }
   },
   "source": [
    "# exercise 1\n",
    "def max_kernel(arr, k):\n",
    "    n = len(arr)\n",
    "    if n == 0:\n",
    "        return []\n",
    "    if k == 0:\n",
    "        return arr\n",
    "    if k == 1:\n",
    "        return arr\n",
    "    if k > n:\n",
    "        return [max(arr)]\n",
    "    max_arr = []\n",
    "    for i in range(n-k+1):\n",
    "        max_arr.append(max(arr[i:i+k]))\n",
    "    return max_arr"
   ],
   "outputs": [],
   "execution_count": 30
  },
  {
   "metadata": {
    "ExecuteTime": {
     "end_time": "2024-06-09T14:38:30.698193Z",
     "start_time": "2024-06-09T14:38:30.693461Z"
    }
   },
   "cell_type": "code",
   "source": "arr = [3, 4, 5, 1, -44 , 5 ,10, 12 ,33, 1]",
   "id": "52dcd1491a9ca68d",
   "outputs": [],
   "execution_count": 31
  },
  {
   "metadata": {
    "ExecuteTime": {
     "end_time": "2024-06-09T14:38:30.889847Z",
     "start_time": "2024-06-09T14:38:30.884186Z"
    }
   },
   "cell_type": "code",
   "source": "max_kernel(arr, 3)",
   "id": "e889ce23b7aaccc8",
   "outputs": [
    {
     "data": {
      "text/plain": [
       "[5, 5, 5, 5, 10, 12, 33, 33]"
      ]
     },
     "execution_count": 32,
     "metadata": {},
     "output_type": "execute_result"
    }
   ],
   "execution_count": 32
  },
  {
   "metadata": {
    "ExecuteTime": {
     "end_time": "2024-06-09T14:40:36.355711Z",
     "start_time": "2024-06-09T14:40:36.349112Z"
    }
   },
   "cell_type": "code",
   "source": [
    "# exercise 2\n",
    "def character_count(s):\n",
    "    char_dict = {}\n",
    "    for char in s:\n",
    "        if char in char_dict:\n",
    "            char_dict[char] += 1\n",
    "        else:\n",
    "            char_dict[char] = 1\n",
    "    return char_dict"
   ],
   "id": "5c3e5d9fc20a016b",
   "outputs": [],
   "execution_count": 35
  },
  {
   "metadata": {
    "ExecuteTime": {
     "end_time": "2024-06-09T14:40:36.686057Z",
     "start_time": "2024-06-09T14:40:36.680840Z"
    }
   },
   "cell_type": "code",
   "source": "character_count('Happiness')",
   "id": "921927f322c2e1e2",
   "outputs": [
    {
     "data": {
      "text/plain": [
       "{'H': 1, 'a': 1, 'p': 2, 'i': 1, 'n': 1, 'e': 1, 's': 2}"
      ]
     },
     "execution_count": 36,
     "metadata": {},
     "output_type": "execute_result"
    }
   ],
   "execution_count": 36
  },
  {
   "metadata": {
    "ExecuteTime": {
     "end_time": "2024-06-09T14:26:44.240065Z",
     "start_time": "2024-06-09T14:26:44.231909Z"
    }
   },
   "cell_type": "code",
   "source": [
    "# exercise 3\n",
    "def words_count(file_path):\n",
    "    with open(file_path, 'r') as file:\n",
    "        text = file.read()\n",
    "    words = text.split()\n",
    "    # tokenize the words\n",
    "    words = [word.lower() for word in words]\n",
    "    word_dict = {}\n",
    "    for word in words:\n",
    "        if word in word_dict:\n",
    "            word_dict[word] += 1\n",
    "        else:\n",
    "            word_dict[word] = 1\n",
    "    # sort by key \n",
    "    word_dict = dict(sorted(word_dict.items()))\n",
    "    return word_dict\n",
    "    "
   ],
   "id": "9b5c03db70cf1697",
   "outputs": [],
   "execution_count": 24
  },
  {
   "metadata": {
    "ExecuteTime": {
     "end_time": "2024-06-09T14:26:44.661766Z",
     "start_time": "2024-06-09T14:26:44.654503Z"
    }
   },
   "cell_type": "code",
   "source": "words_count('data/P1_data.txt')",
   "id": "d31f911d30571bdc",
   "outputs": [
    {
     "data": {
      "text/plain": [
       "{'a': 7,\n",
       " 'again': 1,\n",
       " 'and': 1,\n",
       " 'are': 1,\n",
       " 'at': 1,\n",
       " 'be': 1,\n",
       " 'become': 2,\n",
       " 'bricks': 1,\n",
       " 'busy': 1,\n",
       " 'but': 1,\n",
       " 'came': 1,\n",
       " 'can': 3,\n",
       " 'cannot': 1,\n",
       " 'change': 1,\n",
       " 'comes': 2,\n",
       " 'conquers': 1,\n",
       " 'courage': 1,\n",
       " 'day': 1,\n",
       " 'different': 1,\n",
       " 'employed': 1,\n",
       " 'enough': 1,\n",
       " 'everything': 1,\n",
       " 'firm': 1,\n",
       " 'for': 3,\n",
       " 'foundation': 1,\n",
       " 'from': 1,\n",
       " 'get': 2,\n",
       " 'have': 1,\n",
       " 'he': 1,\n",
       " 'help': 1,\n",
       " 'him': 1,\n",
       " 'himself': 1,\n",
       " 'his': 2,\n",
       " 'if': 1,\n",
       " 'in': 4,\n",
       " 'is': 3,\n",
       " 'it': 2,\n",
       " 'just': 2,\n",
       " 'kind': 1,\n",
       " 'lay': 1,\n",
       " 'life': 2,\n",
       " 'looking': 1,\n",
       " 'majority': 1,\n",
       " 'makes': 1,\n",
       " 'man': 6,\n",
       " 'mightiest': 1,\n",
       " 'mistakes': 1,\n",
       " 'morning': 1,\n",
       " 'not': 1,\n",
       " 'of': 4,\n",
       " 'one': 4,\n",
       " 'opportunity': 1,\n",
       " 'other': 1,\n",
       " 'others': 1,\n",
       " 'people': 1,\n",
       " 'positive': 1,\n",
       " 'problems': 1,\n",
       " 'profit': 1,\n",
       " 'rather': 1,\n",
       " 'ready': 1,\n",
       " 'secret': 1,\n",
       " 'small': 1,\n",
       " 'solve': 1,\n",
       " 'success': 3,\n",
       " 'successful': 2,\n",
       " 'the': 5,\n",
       " 'them': 1,\n",
       " 'they': 1,\n",
       " 'thinking': 1,\n",
       " 'those': 1,\n",
       " 'thought': 1,\n",
       " 'thrown': 1,\n",
       " 'to': 3,\n",
       " 'too': 1,\n",
       " 'try': 2,\n",
       " 'up': 1,\n",
       " 'usually': 1,\n",
       " 'value': 1,\n",
       " 'want': 2,\n",
       " 'warrior': 1,\n",
       " 'way': 1,\n",
       " 'we': 3,\n",
       " 'what': 1,\n",
       " 'when': 2,\n",
       " 'who': 3,\n",
       " 'whole': 1,\n",
       " 'will': 2,\n",
       " 'with': 4,\n",
       " 'you': 3,\n",
       " 'your': 1}"
      ]
     },
     "execution_count": 25,
     "metadata": {},
     "output_type": "execute_result"
    }
   ],
   "execution_count": 25
  },
  {
   "metadata": {
    "ExecuteTime": {
     "end_time": "2024-06-09T14:35:11.199749Z",
     "start_time": "2024-06-09T14:35:11.193298Z"
    }
   },
   "cell_type": "code",
   "source": [
    "# exercise 4\n",
    "def calculate_levenshtein_distance(s1, s2):\n",
    "    m = len(s1)\n",
    "    n = len(s2)\n",
    "    dp = [[0 for _ in range(n+1)] for _ in range(m+1)]\n",
    "    for i in range(m+1):\n",
    "        dp[i][0] = i\n",
    "    for j in range(n+1):\n",
    "        dp[0][j] = j\n",
    "    for i in range(1, m+1):\n",
    "        for j in range(1, n+1):\n",
    "            if s1[i-1] == s2[j-1]:\n",
    "                dp[i][j] = dp[i-1][j-1]\n",
    "            else:\n",
    "                dp[i][j] = 1 + min(dp[i-1][j], dp[i][j-1], dp[i-1][j-1])\n",
    "    return dp[m][n]"
   ],
   "id": "683c09ac83754cbf",
   "outputs": [],
   "execution_count": 26
  },
  {
   "metadata": {
    "ExecuteTime": {
     "end_time": "2024-06-09T14:35:25.531233Z",
     "start_time": "2024-06-09T14:35:25.523620Z"
    }
   },
   "cell_type": "code",
   "source": "calculate_levenshtein_distance('kitten', 'sitting')",
   "id": "3d67cc01d43cc781",
   "outputs": [
    {
     "data": {
      "text/plain": [
       "3"
      ]
     },
     "execution_count": 28,
     "metadata": {},
     "output_type": "execute_result"
    }
   ],
   "execution_count": 28
  },
  {
   "metadata": {
    "ExecuteTime": {
     "end_time": "2024-06-09T14:35:47.249988Z",
     "start_time": "2024-06-09T14:35:47.247297Z"
    }
   },
   "cell_type": "code",
   "source": "calculate_levenshtein_distance(\"you\", \"yu\")",
   "id": "69a66ef0661a7e06",
   "outputs": [
    {
     "data": {
      "text/plain": [
       "1"
      ]
     },
     "execution_count": 29,
     "metadata": {},
     "output_type": "execute_result"
    }
   ],
   "execution_count": 29
  },
  {
   "metadata": {
    "ExecuteTime": {
     "end_time": "2024-06-09T14:38:34.861572Z",
     "start_time": "2024-06-09T14:38:34.858804Z"
    }
   },
   "cell_type": "code",
   "source": [
    "# Trắc nghiệm \n",
    "# Câu 1.\n",
    "assert max_kernel ([3 , 4 , 5 , 1 , -44] , 3) == [5 , 5 , 5]"
   ],
   "id": "605b2f4b0e2ec97",
   "outputs": [],
   "execution_count": 33
  },
  {
   "metadata": {
    "ExecuteTime": {
     "end_time": "2024-06-09T14:38:47.948316Z",
     "start_time": "2024-06-09T14:38:47.946023Z"
    }
   },
   "cell_type": "code",
   "source": [
    "num_list = [3 , 4 , 5 , 1 , -44 , 5 ,10 , 12 ,33 , 1]\n",
    "k = 3\n",
    "print(max_kernel(num_list, k))"
   ],
   "id": "2d998f1d0cd8c7d3",
   "outputs": [
    {
     "name": "stdout",
     "output_type": "stream",
     "text": [
      "[5, 5, 5, 5, 10, 12, 33, 33]\n"
     ]
    }
   ],
   "execution_count": 34
  },
  {
   "metadata": {
    "ExecuteTime": {
     "end_time": "2024-06-09T14:42:37.874381Z",
     "start_time": "2024-06-09T14:42:37.869904Z"
    }
   },
   "cell_type": "code",
   "source": [
    "# Câu 2.\n",
    "assert character_count ( \"Baby\" ) == { \"B\": 1 , \"a\": 1 , \"b\": 1 , \"y\": 1}"
   ],
   "id": "866a046b428df819",
   "outputs": [],
   "execution_count": 42
  },
  {
   "metadata": {
    "ExecuteTime": {
     "end_time": "2024-06-09T14:42:38.133712Z",
     "start_time": "2024-06-09T14:42:38.127295Z"
    }
   },
   "cell_type": "code",
   "source": "print ( character_count ( \"smiles\") )",
   "id": "188f02d44c1c51af",
   "outputs": [
    {
     "name": "stdout",
     "output_type": "stream",
     "text": [
      "{'s': 2, 'm': 1, 'i': 1, 'l': 1, 'e': 1}\n"
     ]
    }
   ],
   "execution_count": 43
  },
  {
   "metadata": {
    "ExecuteTime": {
     "end_time": "2024-06-09T14:44:10.899906Z",
     "start_time": "2024-06-09T14:44:10.898214Z"
    }
   },
   "cell_type": "code",
   "source": [
    "# Câu 3.\n",
    "file_path = 'data/P1_data.txt'\n",
    "result = words_count(file_path)\n",
    "assert result['who'] == 3"
   ],
   "id": "522d47ddfe9d6c8c",
   "outputs": [],
   "execution_count": 44
  },
  {
   "metadata": {
    "ExecuteTime": {
     "end_time": "2024-06-09T14:44:19.176568Z",
     "start_time": "2024-06-09T14:44:19.173375Z"
    }
   },
   "cell_type": "code",
   "source": "print(result[\"man\"])",
   "id": "607bb874f61470a",
   "outputs": [
    {
     "name": "stdout",
     "output_type": "stream",
     "text": [
      "6\n"
     ]
    }
   ],
   "execution_count": 45
  },
  {
   "metadata": {
    "ExecuteTime": {
     "end_time": "2024-06-09T14:45:12.648092Z",
     "start_time": "2024-06-09T14:45:12.645980Z"
    }
   },
   "cell_type": "code",
   "source": [
    "# Câu 4.\n",
    "assert calculate_levenshtein_distance ( \"hi\" , \"hello\" ) == 4"
   ],
   "id": "8eeb7ce29f3f2d72",
   "outputs": [],
   "execution_count": 46
  },
  {
   "metadata": {
    "ExecuteTime": {
     "end_time": "2024-06-09T14:45:24.996635Z",
     "start_time": "2024-06-09T14:45:24.994640Z"
    }
   },
   "cell_type": "code",
   "source": "print(calculate_levenshtein_distance(\"hola\", \"hello\"))",
   "id": "eaa8d4327dd68120",
   "outputs": [
    {
     "name": "stdout",
     "output_type": "stream",
     "text": [
      "3\n"
     ]
    }
   ],
   "execution_count": 47
  },
  {
   "metadata": {
    "ExecuteTime": {
     "end_time": "2024-06-09T14:52:32.285142Z",
     "start_time": "2024-06-09T14:52:32.280194Z"
    }
   },
   "cell_type": "code",
   "source": [
    "# Câu 5.\n",
    "def check_the_number(N):\n",
    "    list_of_numbers =[]\n",
    "    result = \"\"\n",
    "    for i in range (1, 5):\n",
    "        list_of_numbers.append(i)\n",
    "    if N in list_of_numbers:\n",
    "        result = \"True\"\n",
    "    if N not in list_of_numbers:\n",
    "        result = \"False\"\n",
    "    return result"
   ],
   "id": "3c294833259442d6",
   "outputs": [],
   "execution_count": 49
  },
  {
   "metadata": {
    "ExecuteTime": {
     "end_time": "2024-06-09T14:52:44.664305Z",
     "start_time": "2024-06-09T14:52:44.659604Z"
    }
   },
   "cell_type": "code",
   "source": [
    "N = 7\n",
    "assert check_the_number(N) == \"False\""
   ],
   "id": "560a1cf1ea73ab5f",
   "outputs": [],
   "execution_count": 50
  },
  {
   "metadata": {
    "ExecuteTime": {
     "end_time": "2024-06-09T14:52:53.414905Z",
     "start_time": "2024-06-09T14:52:53.412480Z"
    }
   },
   "cell_type": "code",
   "source": [
    "N = 2\n",
    "print(check_the_number(N))"
   ],
   "id": "47baa851d43b2689",
   "outputs": [
    {
     "name": "stdout",
     "output_type": "stream",
     "text": [
      "True\n"
     ]
    }
   ],
   "execution_count": 51
  },
  {
   "metadata": {
    "ExecuteTime": {
     "end_time": "2024-06-09T14:56:21.988697Z",
     "start_time": "2024-06-09T14:56:21.986276Z"
    }
   },
   "cell_type": "code",
   "source": [
    "# Câu 6.\n",
    "def my_function(data, max, min):\n",
    "    result = []\n",
    "    for i in data:\n",
    "        if i < min:\n",
    "            result.append(min)\n",
    "        elif i > max:\n",
    "            result.append(max)\n",
    "        else:\n",
    "            result.append(i)\n",
    "    return result"
   ],
   "id": "25b41c9ac2d05636",
   "outputs": [],
   "execution_count": 52
  },
  {
   "metadata": {
    "ExecuteTime": {
     "end_time": "2024-06-09T14:56:51.329122Z",
     "start_time": "2024-06-09T14:56:51.327449Z"
    }
   },
   "cell_type": "code",
   "source": [
    "my_list =[5,2,5,0,1]\n",
    "max = 1\n",
    "min = 0\n",
    "assert my_function(my_list, max, min) == [1, 1, 1, 0, 1]"
   ],
   "id": "6596b91ea8ef1afa",
   "outputs": [],
   "execution_count": 53
  },
  {
   "metadata": {
    "ExecuteTime": {
     "end_time": "2024-06-09T14:57:19.981127Z",
     "start_time": "2024-06-09T14:57:19.978113Z"
    }
   },
   "cell_type": "code",
   "source": [
    "my_list = [10,2,5,0,1]\n",
    "max = 2\n",
    "min = 1\n",
    "print(my_function(my_list, max, min))"
   ],
   "id": "fcd81426c901f9af",
   "outputs": [
    {
     "name": "stdout",
     "output_type": "stream",
     "text": [
      "[2, 2, 2, 1, 1]\n"
     ]
    }
   ],
   "execution_count": 54
  },
  {
   "metadata": {
    "ExecuteTime": {
     "end_time": "2024-06-09T14:59:54.223297Z",
     "start_time": "2024-06-09T14:59:54.218325Z"
    }
   },
   "cell_type": "code",
   "source": [
    "# Câu 7.\n",
    "def my_function(x, y):\n",
    "    x.extend(y)\n",
    "    return x\n",
    "\n",
    "list_num1 = [\"a\", 2, 5]\n",
    "list_num2 = [1, 1]\n",
    "list_num3 = [0,0]\n",
    "assert my_function(list_num1,  my_function(list_num2, list_num3)) == [\"a\", 2, 5, 1, 1, 0,0]"
   ],
   "id": "8ddb9ab8c41f9f96",
   "outputs": [],
   "execution_count": 56
  },
  {
   "metadata": {
    "ExecuteTime": {
     "end_time": "2024-06-09T15:00:19.739934Z",
     "start_time": "2024-06-09T15:00:19.738018Z"
    }
   },
   "cell_type": "code",
   "source": [
    "list_num1 = [1, 2]\n",
    "list_num2 = [3, 4]\n",
    "list_num3 = [0, 0]\n",
    "print(my_function(list_num1,  my_function(list_num2, list_num3)))"
   ],
   "id": "b1d5777bdffd6999",
   "outputs": [
    {
     "name": "stdout",
     "output_type": "stream",
     "text": [
      "[1, 2, 3, 4, 0, 0]\n"
     ]
    }
   ],
   "execution_count": 57
  },
  {
   "metadata": {
    "ExecuteTime": {
     "end_time": "2024-06-09T15:21:32.223236Z",
     "start_time": "2024-06-09T15:21:32.220168Z"
    }
   },
   "cell_type": "code",
   "source": [
    "# Câu 8.\n",
    "def my_function (n):\n",
    "    min = n[0]\n",
    "    for i in n:\n",
    "        if i < min:\n",
    "            min = i\n",
    "    return min"
   ],
   "id": "d408093fb7bd624b",
   "outputs": [],
   "execution_count": 70
  },
  {
   "metadata": {
    "ExecuteTime": {
     "end_time": "2024-06-09T15:21:34.170051Z",
     "start_time": "2024-06-09T15:21:34.168153Z"
    }
   },
   "cell_type": "code",
   "source": [
    "my_list = [1, 22, 93, -100]\n",
    "assert my_function(my_list) == -100"
   ],
   "id": "afb103a662d5e342",
   "outputs": [],
   "execution_count": 71
  },
  {
   "metadata": {
    "ExecuteTime": {
     "end_time": "2024-06-09T15:21:35.073171Z",
     "start_time": "2024-06-09T15:21:35.068986Z"
    }
   },
   "cell_type": "code",
   "source": [
    "my_list = [1,2,3, -1]\n",
    "print(my_function(my_list))"
   ],
   "id": "64519f5ab5a1bc81",
   "outputs": [
    {
     "name": "stdout",
     "output_type": "stream",
     "text": [
      "-1\n"
     ]
    }
   ],
   "execution_count": 72
  },
  {
   "metadata": {
    "ExecuteTime": {
     "end_time": "2024-06-09T15:22:04.759485Z",
     "start_time": "2024-06-09T15:22:04.757355Z"
    }
   },
   "cell_type": "code",
   "source": [
    "# Câu 9.    \n",
    "def my_function (n):\n",
    "    max = n[0]\n",
    "    for i in n:\n",
    "        if i > max:\n",
    "            max = i\n",
    "    return max        "
   ],
   "id": "af252a16932acd4b",
   "outputs": [],
   "execution_count": 73
  },
  {
   "metadata": {
    "ExecuteTime": {
     "end_time": "2024-06-09T15:22:23.545165Z",
     "start_time": "2024-06-09T15:22:23.543276Z"
    }
   },
   "cell_type": "code",
   "source": [
    "my_list = [1001, 9, 100, 0]\n",
    "assert my_function(my_list) == 1001"
   ],
   "id": "337cba21490ed02f",
   "outputs": [],
   "execution_count": 74
  },
  {
   "metadata": {
    "ExecuteTime": {
     "end_time": "2024-06-09T15:22:35.625526Z",
     "start_time": "2024-06-09T15:22:35.622747Z"
    }
   },
   "cell_type": "code",
   "source": [
    "my_list = [1,9,9,0]\n",
    "print(my_function(my_list))"
   ],
   "id": "d00b1a26fa220816",
   "outputs": [
    {
     "name": "stdout",
     "output_type": "stream",
     "text": [
      "9\n"
     ]
    }
   ],
   "execution_count": 75
  },
  {
   "metadata": {
    "ExecuteTime": {
     "end_time": "2024-06-10T11:26:31.028100Z",
     "start_time": "2024-06-10T11:26:31.024425Z"
    }
   },
   "cell_type": "code",
   "source": [
    "# Câu 10.\n",
    "def my_function (integers, n = 1):\n",
    "    result = []\n",
    "    for i in integers:\n",
    "        if i == n:\n",
    "           result.append(True)\n",
    "        else:\n",
    "           result.append(False)\n",
    "    return result\n"
   ],
   "id": "c5501a3baef603d9",
   "outputs": [],
   "execution_count": 76
  },
  {
   "metadata": {
    "ExecuteTime": {
     "end_time": "2024-06-10T11:29:00.597956Z",
     "start_time": "2024-06-10T11:29:00.590574Z"
    }
   },
   "cell_type": "code",
   "source": [
    "my_list = [1,3,9,4]\n",
    "assert my_function(my_list, -1) == [False, False, False, False]"
   ],
   "id": "771fe87cce42e746",
   "outputs": [],
   "execution_count": 78
  },
  {
   "metadata": {
    "ExecuteTime": {
     "end_time": "2024-06-10T11:29:12.579045Z",
     "start_time": "2024-06-10T11:29:12.576766Z"
    }
   },
   "cell_type": "code",
   "source": [
    "my_list = [1 , 2 , 3 , 4]\n",
    "print(my_function(my_list, 2))"
   ],
   "id": "b65cf805655fb3f9",
   "outputs": [
    {
     "name": "stdout",
     "output_type": "stream",
     "text": [
      "[False, True, False, False]\n"
     ]
    }
   ],
   "execution_count": 79
  },
  {
   "metadata": {
    "ExecuteTime": {
     "end_time": "2024-06-10T11:31:10.068258Z",
     "start_time": "2024-06-10T11:31:10.063700Z"
    }
   },
   "cell_type": "code",
   "source": [
    "# Câu 11.\n",
    "def my_function (list_nums = [0 , 1 , 2]):\n",
    "    var = 0\n",
    "    for i in list_nums:\n",
    "        var += i\n",
    "    return var/len(list_nums)\n",
    "\n"
   ],
   "id": "48a23cec75f93d5c",
   "outputs": [],
   "execution_count": 80
  },
  {
   "metadata": {
    "ExecuteTime": {
     "end_time": "2024-06-10T11:31:24.569156Z",
     "start_time": "2024-06-10T11:31:24.567232Z"
    }
   },
   "cell_type": "code",
   "source": "assert my_function([4,6,8]) == 6",
   "id": "385213782d50616d",
   "outputs": [],
   "execution_count": 81
  },
  {
   "metadata": {
    "ExecuteTime": {
     "end_time": "2024-06-10T11:31:31.334628Z",
     "start_time": "2024-06-10T11:31:31.332738Z"
    }
   },
   "cell_type": "code",
   "source": "print(my_function())",
   "id": "9ba641552ffd5435",
   "outputs": [
    {
     "name": "stdout",
     "output_type": "stream",
     "text": [
      "1.0\n"
     ]
    }
   ],
   "execution_count": 82
  },
  {
   "metadata": {
    "ExecuteTime": {
     "end_time": "2024-06-10T11:37:02.174894Z",
     "start_time": "2024-06-10T11:37:02.172944Z"
    }
   },
   "cell_type": "code",
   "source": [
    "# Câu 12.\n",
    "def my_function (data):\n",
    "    var = []\n",
    "    for i in data:\n",
    "        if i %3 == 0:\n",
    "            var.append(i)\n",
    "    return var"
   ],
   "id": "c31779cdeed852c4",
   "outputs": [],
   "execution_count": 83
  },
  {
   "metadata": {
    "ExecuteTime": {
     "end_time": "2024-06-10T11:37:10.135280Z",
     "start_time": "2024-06-10T11:37:10.132653Z"
    }
   },
   "cell_type": "code",
   "source": "assert my_function ([3 , 9 , 4 , 5]) == [3 , 9]",
   "id": "bd3c2630e167e397",
   "outputs": [],
   "execution_count": 84
  },
  {
   "metadata": {
    "ExecuteTime": {
     "end_time": "2024-06-10T11:37:15.756641Z",
     "start_time": "2024-06-10T11:37:15.754471Z"
    }
   },
   "cell_type": "code",
   "source": "print ( my_function ([1 , 2 , 3 , 5 , 6]) )",
   "id": "827841982f4c0a",
   "outputs": [
    {
     "name": "stdout",
     "output_type": "stream",
     "text": [
      "[3, 6]\n"
     ]
    }
   ],
   "execution_count": 85
  },
  {
   "metadata": {
    "ExecuteTime": {
     "end_time": "2024-06-10T11:41:12.162770Z",
     "start_time": "2024-06-10T11:41:12.159332Z"
    }
   },
   "cell_type": "code",
   "source": [
    "# Câu 13.\n",
    "def tinh_giai_thua(y):\n",
    "    if y == 0:\n",
    "        return 1\n",
    "    return y * tinh_giai_thua(y-1)\n",
    "\n",
    "assert tinh_giai_thua(8) == 40320\n",
    "print(tinh_giai_thua(4))"
   ],
   "id": "6f075f7a1845e269",
   "outputs": [
    {
     "name": "stdout",
     "output_type": "stream",
     "text": [
      "24\n"
     ]
    }
   ],
   "execution_count": 86
  },
  {
   "metadata": {
    "ExecuteTime": {
     "end_time": "2024-06-10T11:42:13.474038Z",
     "start_time": "2024-06-10T11:42:13.472029Z"
    }
   },
   "cell_type": "code",
   "source": [
    "# Câu 14.   \n",
    "def reverse_string(s):\n",
    "    if len(s) == 0:\n",
    "        return s\n",
    "    else:\n",
    "        return reverse_string(s[1:]) + s[0]\n",
    "\n",
    "x = \"I can do it\"\n",
    "assert reverse_string(x) == \"ti od nac I\""
   ],
   "id": "4255068b3c645058",
   "outputs": [],
   "execution_count": 87
  },
  {
   "metadata": {
    "ExecuteTime": {
     "end_time": "2024-06-10T11:42:24.836853Z",
     "start_time": "2024-06-10T11:42:24.833935Z"
    }
   },
   "cell_type": "code",
   "source": "print(reverse_string(\"apricot\"))",
   "id": "642da8a05f3551d9",
   "outputs": [
    {
     "name": "stdout",
     "output_type": "stream",
     "text": [
      "tocirpa\n"
     ]
    }
   ],
   "execution_count": 88
  },
  {
   "metadata": {
    "ExecuteTime": {
     "end_time": "2024-06-10T11:45:32.637283Z",
     "start_time": "2024-06-10T11:45:32.635229Z"
    }
   },
   "cell_type": "code",
   "source": [
    "# Câu 15.\n",
    "def function_helper(x):\n",
    "    if x > 0:\n",
    "        return \"T\"\n",
    "    else:\n",
    "        return \"N\"\n",
    "    \n",
    "def my_function(data):\n",
    "    res = [function_helper(x) for x in data]\n",
    "    return res\n",
    "\n",
    "data = [10,0,-10,-1]\n",
    "assert my_function(data) == [\"T\", \"N\", \"N\", \"N\"]\n"
   ],
   "id": "a832574958db2e39",
   "outputs": [],
   "execution_count": 89
  },
  {
   "metadata": {
    "ExecuteTime": {
     "end_time": "2024-06-10T11:45:44.549340Z",
     "start_time": "2024-06-10T11:45:44.547466Z"
    }
   },
   "cell_type": "code",
   "source": [
    "data = [2,3,5,-1]\n",
    "print(my_function(data))"
   ],
   "id": "d36be5e1a0280410",
   "outputs": [
    {
     "name": "stdout",
     "output_type": "stream",
     "text": [
      "['T', 'T', 'T', 'N']\n"
     ]
    }
   ],
   "execution_count": 90
  },
  {
   "metadata": {
    "ExecuteTime": {
     "end_time": "2024-06-10T11:47:38.929437Z",
     "start_time": "2024-06-10T11:47:38.927127Z"
    }
   },
   "cell_type": "code",
   "source": [
    "# Câu 16.\n",
    "def function_helper(x, data):\n",
    "    for i in data:\n",
    "        if x == i:\n",
    "            return 0\n",
    "    return 1\n",
    "\n",
    "def my_function(data):\n",
    "    res = []\n",
    "    for i in data:\n",
    "        if function_helper(i, res):\n",
    "            res.append(i)\n",
    "    return res\n",
    "\n",
    "lst = [10 , 10 , 9 , 7 , 7]\n",
    "assert my_function ( lst ) ==[10 , 9 , 7]\n",
    "\n",
    "lst = [9 , 9 , 8 , 1 , 1]\n",
    "print ( my_function ( lst ) )"
   ],
   "id": "d62e5ba300c41ba2",
   "outputs": [
    {
     "name": "stdout",
     "output_type": "stream",
     "text": [
      "[9, 8, 1]\n"
     ]
    }
   ],
   "execution_count": 91
  },
  {
   "metadata": {},
   "cell_type": "code",
   "outputs": [],
   "execution_count": null,
   "source": "",
   "id": "7f783fb6ee71f7bf"
  }
 ],
 "metadata": {
  "kernelspec": {
   "display_name": "Python 3",
   "language": "python",
   "name": "python3"
  },
  "language_info": {
   "codemirror_mode": {
    "name": "ipython",
    "version": 2
   },
   "file_extension": ".py",
   "mimetype": "text/x-python",
   "name": "python",
   "nbconvert_exporter": "python",
   "pygments_lexer": "ipython2",
   "version": "2.7.6"
  }
 },
 "nbformat": 4,
 "nbformat_minor": 5
}
