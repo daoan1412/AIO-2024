{
 "cells": [
  {
   "cell_type": "code",
   "id": "initial_id",
   "metadata": {
    "collapsed": true,
    "ExecuteTime": {
     "end_time": "2024-06-01T15:56:20.159961Z",
     "start_time": "2024-06-01T15:56:20.152587Z"
    }
   },
   "source": [
    "import math\n",
    "\n",
    "\n",
    "def precision(tp, fp):\n",
    "    return tp / (tp + fp)\n",
    "\n",
    "\n",
    "def recall(tp, fn):\n",
    "    return tp / (tp + fn)\n",
    "\n",
    "\n",
    "def exercise1(tp, fp, fn):\n",
    "    # check tf, fp, fn must be integers\n",
    "    if not isinstance(tp, int) or not isinstance(fp, int) or not isinstance(fn, int):\n",
    "        raise ValueError(\"tp, fp, fn must be integers\")\n",
    "    # check tp, fp, fn must be positive\n",
    "    if tp < 0 or fp < 0 or fn < 0:\n",
    "        raise ValueError(\"tp, fp, fn must be positive\")\n",
    "    p = precision(tp, fp)\n",
    "    print(\"persicion is: \", p)\n",
    "    r = recall(tp, fn)\n",
    "    print(\"recall is: \", r)\n",
    "    f1_score = 2 * p * r / (p + r)\n",
    "    print(\"f1_score is: \", f1_score)\n",
    "\n",
    "\n",
    "exercise1(1, 2, 3)\n"
   ],
   "outputs": [
    {
     "name": "stdout",
     "output_type": "stream",
     "text": [
      "persicion is:  0.3333333333333333\n",
      "recall is:  0.25\n",
      "f1_score is:  0.28571428571428575\n"
     ]
    }
   ],
   "execution_count": 38
  },
  {
   "metadata": {
    "ExecuteTime": {
     "end_time": "2024-06-01T15:56:20.164476Z",
     "start_time": "2024-06-01T15:56:20.162427Z"
    }
   },
   "cell_type": "code",
   "source": [
    "try:\n",
    "    exercise1(1, -2, 3)\n",
    "except ValueError as e:\n",
    "    print(e)"
   ],
   "id": "880b6a80969465e1",
   "outputs": [
    {
     "name": "stdout",
     "output_type": "stream",
     "text": [
      "tp, fp, fn must be positive\n"
     ]
    }
   ],
   "execution_count": 39
  },
  {
   "metadata": {
    "ExecuteTime": {
     "end_time": "2024-06-01T15:56:20.166825Z",
     "start_time": "2024-06-01T15:56:20.165169Z"
    }
   },
   "cell_type": "code",
   "source": [
    "try:\n",
    "    exercise1(1, 2, \"3\")\n",
    "except ValueError as e:\n",
    "    print(e)"
   ],
   "id": "6cf4da25bb420569",
   "outputs": [
    {
     "name": "stdout",
     "output_type": "stream",
     "text": [
      "tp, fp, fn must be integers\n"
     ]
    }
   ],
   "execution_count": 40
  },
  {
   "metadata": {
    "ExecuteTime": {
     "end_time": "2024-06-01T15:56:20.169136Z",
     "start_time": "2024-06-01T15:56:20.167620Z"
    }
   },
   "cell_type": "code",
   "source": [
    "import numpy as np\n",
    "\n",
    "def is_number(n):\n",
    "    try:\n",
    "        float(n)\n",
    "    except ValueError:\n",
    "        return False\n",
    "    return True\n",
    "\n",
    "\n",
    "def sigmoid(x):\n",
    "    return 1 / (1 + np.exp(-x))"
   ],
   "id": "5b43287826c8086f",
   "outputs": [],
   "execution_count": 41
  },
  {
   "metadata": {
    "ExecuteTime": {
     "end_time": "2024-06-01T15:56:20.171257Z",
     "start_time": "2024-06-01T15:56:20.169523Z"
    }
   },
   "cell_type": "code",
   "source": [
    "def relu(x):\n",
    "    return np.maximum(0, x)\n"
   ],
   "id": "2d851dd4b839b3d",
   "outputs": [],
   "execution_count": 42
  },
  {
   "metadata": {
    "ExecuteTime": {
     "end_time": "2024-06-01T15:56:20.173341Z",
     "start_time": "2024-06-01T15:56:20.171804Z"
    }
   },
   "cell_type": "code",
   "source": [
    "def elu(x, alpha):\n",
    "    return np.where(x > 0, x, alpha * (np.exp(x) - 1))\n"
   ],
   "id": "9cf1ce96bdb86698",
   "outputs": [],
   "execution_count": 43
  },
  {
   "metadata": {
    "ExecuteTime": {
     "end_time": "2024-06-01T15:56:20.175607Z",
     "start_time": "2024-06-01T15:56:20.173782Z"
    }
   },
   "cell_type": "code",
   "source": [
    "def exercise2():\n",
    "    x = input(\"Enter a number: \")\n",
    "    activation_function = input(\"Enter activation function: \")\n",
    "    if is_number(x):\n",
    "        x = float(x)\n",
    "        if activation_function == \"sigmoid\":\n",
    "            print(\"sigmoid: f({0})=\".format(x), sigmoid(x))\n",
    "        elif activation_function == \"relu\":\n",
    "            print(\"relu: f({0})=\".format(x), relu(x))\n",
    "        elif activation_function == \"elu\":\n",
    "            print(\"elu: f({0})=\".format(x), elu(x, 0.01))\n",
    "        else:\n",
    "            print(activation_function, \" is not supported\")\n",
    "    else:\n",
    "        print(\"x must be a number\")"
   ],
   "id": "4c7da88a93678f3d",
   "outputs": [],
   "execution_count": 44
  },
  {
   "metadata": {
    "ExecuteTime": {
     "end_time": "2024-06-01T15:56:23.763286Z",
     "start_time": "2024-06-01T15:56:20.176127Z"
    }
   },
   "cell_type": "code",
   "source": "exercise2()",
   "id": "53d6da96053f4b87",
   "outputs": [
    {
     "name": "stdout",
     "output_type": "stream",
     "text": [
      "2  is not supported\n"
     ]
    }
   ],
   "execution_count": 45
  },
  {
   "metadata": {
    "ExecuteTime": {
     "end_time": "2024-06-01T15:56:23.779910Z",
     "start_time": "2024-06-01T15:56:23.768478Z"
    }
   },
   "cell_type": "code",
   "source": [
    "import random\n",
    "\n",
    "\n",
    "def mae(y_true, y_pred):\n",
    "    return np.mean(abs(y_true - y_pred))\n",
    "\n",
    "def mse(y_true, y_pred):\n",
    "    return np.mean(np.square(y_true - y_pred))\n",
    "\n",
    "def rmse(y_true, y_pred):\n",
    "    return math.sqrt(mse(y_true, y_pred))\n",
    "\n",
    "def exercise3():\n",
    "    num = input(\"Enter number of samples: \")\n",
    "    if not num.isnumeric():\n",
    "        print(\"Number of samples must be a number\")\n",
    "        return\n",
    "    loss_name = input(\"Enter loss function: \")\n",
    "    for i in range(int(num)):\n",
    "        y_true = random.uniform(0, 10)\n",
    "        y_pred = random.uniform(0, 10)\n",
    "        print(\"lose name: \", loss_name)\n",
    "        print(\"sample: {0}, pred: {1}, target: {2}\".format(i, y_pred, y_true))\n",
    "        if loss_name == \"mae\":\n",
    "            print(\"loss: \", mae(y_true, y_pred))\n",
    "        elif loss_name == \"mse\":\n",
    "            print(\"loss: \", mse(y_true, y_pred))\n",
    "        elif loss_name == \"rmse\":\n",
    "            print(\"loss: \", rmse(y_true, y_pred))\n",
    "        else:\n",
    "            print(loss_name, \" is not supported\")"
   ],
   "id": "c3feb09302b291f",
   "outputs": [],
   "execution_count": 46
  },
  {
   "metadata": {
    "ExecuteTime": {
     "end_time": "2024-06-01T15:56:25.596975Z",
     "start_time": "2024-06-01T15:56:23.781086Z"
    }
   },
   "cell_type": "code",
   "source": "exercise3()",
   "id": "f8aed3854a741823",
   "outputs": [
    {
     "name": "stdout",
     "output_type": "stream",
     "text": [
      "lose name:  4\n",
      "sample: 0, pred: 3.0089486249438266, target: 1.5628930305619482\n",
      "4  is not supported\n",
      "lose name:  4\n",
      "sample: 1, pred: 5.638166699489045, target: 0.381071598861904\n",
      "4  is not supported\n",
      "lose name:  4\n",
      "sample: 2, pred: 7.308894218132352, target: 1.14803384732851\n",
      "4  is not supported\n"
     ]
    }
   ],
   "execution_count": 47
  },
  {
   "metadata": {
    "ExecuteTime": {
     "end_time": "2024-06-01T16:07:10.103400Z",
     "start_time": "2024-06-01T16:07:10.093657Z"
    }
   },
   "cell_type": "code",
   "source": [
    "def factorial(n):\n",
    "    if n == 0:\n",
    "        return 1\n",
    "    return n * factorial(n - 1)\n",
    "\n",
    "def approx_sin(x, n):\n",
    "    return sum([(-1)** i * x ** (2 * i + 1) / factorial(2 * i + 1) for i in range(n)])\n",
    "\n",
    "def approx_cos(x, n):\n",
    "    return  sum([(-1)** i * x ** (2 * i) / factorial(2 * i) for i in range(n)])\n",
    "\n",
    "def approx_sinh(x, n):\n",
    "    return sum([x ** (2 * i + 1) / factorial(2 * i + 1) for i in range(n)])\n",
    "\n",
    "def approx_cosh(x, n):\n",
    "    return sum([x ** (2 * i) / factorial(2 * i) for i in range(n)])"
   ],
   "id": "6b0f4ec3a13dc4b8",
   "outputs": [],
   "execution_count": 87
  },
  {
   "metadata": {
    "ExecuteTime": {
     "end_time": "2024-06-01T16:07:10.684168Z",
     "start_time": "2024-06-01T16:07:10.680970Z"
    }
   },
   "cell_type": "code",
   "source": "approx_sin(3.14,10)",
   "id": "a482644d3c827670",
   "outputs": [
    {
     "data": {
      "text/plain": [
       "0.001592652393160744"
      ]
     },
     "execution_count": 88,
     "metadata": {},
     "output_type": "execute_result"
    }
   ],
   "execution_count": 88
  },
  {
   "metadata": {
    "ExecuteTime": {
     "end_time": "2024-06-01T16:07:11.391679Z",
     "start_time": "2024-06-01T16:07:11.385495Z"
    }
   },
   "cell_type": "code",
   "source": "approx_cos(3.14, 10)",
   "id": "83ac0263c5337db0",
   "outputs": [
    {
     "data": {
      "text/plain": [
       "-0.9999987352210833"
      ]
     },
     "execution_count": 89,
     "metadata": {},
     "output_type": "execute_result"
    }
   ],
   "execution_count": 89
  },
  {
   "metadata": {
    "ExecuteTime": {
     "end_time": "2024-06-01T16:07:12.294129Z",
     "start_time": "2024-06-01T16:07:12.288303Z"
    }
   },
   "cell_type": "code",
   "source": "approx_sinh(float(3.14), 10)",
   "id": "1e6ee5537c6664e8",
   "outputs": [
    {
     "data": {
      "text/plain": [
       "11.530292029865986"
      ]
     },
     "execution_count": 90,
     "metadata": {},
     "output_type": "execute_result"
    }
   ],
   "execution_count": 90
  },
  {
   "metadata": {
    "ExecuteTime": {
     "end_time": "2024-06-01T16:07:19.181153Z",
     "start_time": "2024-06-01T16:07:19.176523Z"
    }
   },
   "cell_type": "code",
   "source": "approx_cosh(float(3.14), 10)",
   "id": "d35206492ef4a601",
   "outputs": [
    {
     "data": {
      "text/plain": [
       "11.573574824666185"
      ]
     },
     "execution_count": 92,
     "metadata": {},
     "output_type": "execute_result"
    }
   ],
   "execution_count": 92
  },
  {
   "metadata": {
    "ExecuteTime": {
     "end_time": "2024-06-01T16:19:06.701682Z",
     "start_time": "2024-06-01T16:19:06.697777Z"
    }
   },
   "cell_type": "code",
   "source": [
    "import math\n",
    "def nth_root(value, n_root):\n",
    "    return math.pow(value, 1/n_root)"
   ],
   "id": "594809264b65b109",
   "outputs": [],
   "execution_count": 103
  },
  {
   "metadata": {
    "ExecuteTime": {
     "end_time": "2024-06-01T16:19:06.892277Z",
     "start_time": "2024-06-01T16:19:06.888492Z"
    }
   },
   "cell_type": "code",
   "source": [
    "def md_nre_single_sample(y_true, y_pred, n, p): \n",
    "    return (nth_root(y_true, n) - nth_root(y_pred, n))** p"
   ],
   "id": "f0c1f7b428f47c76",
   "outputs": [],
   "execution_count": 104
  },
  {
   "metadata": {
    "ExecuteTime": {
     "end_time": "2024-06-01T16:19:07.077272Z",
     "start_time": "2024-06-01T16:19:07.073859Z"
    }
   },
   "cell_type": "code",
   "source": "md_nre_single_sample(100,99.5,2,1)",
   "id": "5680807c09eeab3d",
   "outputs": [
    {
     "data": {
      "text/plain": [
       "0.025031328369998107"
      ]
     },
     "execution_count": 105,
     "metadata": {},
     "output_type": "execute_result"
    }
   ],
   "execution_count": 105
  },
  {
   "metadata": {
    "ExecuteTime": {
     "end_time": "2024-06-01T16:19:21.986560Z",
     "start_time": "2024-06-01T16:19:21.983180Z"
    }
   },
   "cell_type": "code",
   "source": "md_nre_single_sample ( 50 , 49.5 , n =2 , p =1)",
   "id": "8e92ed75d494da0e",
   "outputs": [
    {
     "data": {
      "text/plain": [
       "0.03544417213033135"
      ]
     },
     "execution_count": 106,
     "metadata": {},
     "output_type": "execute_result"
    }
   ],
   "execution_count": 106
  },
  {
   "metadata": {},
   "cell_type": "code",
   "outputs": [],
   "execution_count": null,
   "source": "",
   "id": "90efd5ee089834a7"
  }
 ],
 "metadata": {
  "kernelspec": {
   "display_name": "Python 3",
   "language": "python",
   "name": "python3"
  },
  "language_info": {
   "codemirror_mode": {
    "name": "ipython",
    "version": 2
   },
   "file_extension": ".py",
   "mimetype": "text/x-python",
   "name": "python",
   "nbconvert_exporter": "python",
   "pygments_lexer": "ipython2",
   "version": "2.7.6"
  }
 },
 "nbformat": 4,
 "nbformat_minor": 5
}
