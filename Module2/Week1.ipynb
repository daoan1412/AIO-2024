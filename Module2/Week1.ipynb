{
 "cells": [
  {
   "cell_type": "code",
   "id": "initial_id",
   "metadata": {
    "collapsed": true,
    "ExecuteTime": {
     "end_time": "2024-07-09T10:46:49.354420Z",
     "start_time": "2024-07-09T10:46:49.273897Z"
    }
   },
   "source": [
    "import numpy as np\n",
    "\n",
    "arr = np.arange(0, 10, 1)\n",
    "print(arr)"
   ],
   "outputs": [
    {
     "name": "stdout",
     "output_type": "stream",
     "text": [
      "[0 1 2 3 4 5 6 7 8 9]\n"
     ]
    }
   ],
   "execution_count": 1
  },
  {
   "metadata": {
    "ExecuteTime": {
     "end_time": "2024-07-09T11:30:16.656196Z",
     "start_time": "2024-07-09T11:30:16.652473Z"
    }
   },
   "cell_type": "code",
   "source": [
    "arr = np.full((3, 3), fill_value=True, dtype=bool)\n",
    "print(arr)"
   ],
   "id": "ecef5ab6a045a47a",
   "outputs": [
    {
     "name": "stdout",
     "output_type": "stream",
     "text": [
      "[[ True  True  True]\n",
      " [ True  True  True]\n",
      " [ True  True  True]]\n"
     ]
    }
   ],
   "execution_count": 2
  },
  {
   "metadata": {
    "ExecuteTime": {
     "end_time": "2024-07-09T11:32:14.976502Z",
     "start_time": "2024-07-09T11:32:14.973278Z"
    }
   },
   "cell_type": "code",
   "source": [
    "arr = np.arange(0, 10)\n",
    "print(arr[arr % 2 == 1])"
   ],
   "id": "60b21bc59f204ab9",
   "outputs": [
    {
     "name": "stdout",
     "output_type": "stream",
     "text": [
      "[1 3 5 7 9]\n"
     ]
    }
   ],
   "execution_count": 3
  },
  {
   "metadata": {
    "ExecuteTime": {
     "end_time": "2024-07-09T11:33:32.166922Z",
     "start_time": "2024-07-09T11:33:32.164029Z"
    }
   },
   "cell_type": "code",
   "source": [
    "arr = np.arange(0, 10)\n",
    "arr[arr % 2 == 1] = -1\n",
    "print(arr)"
   ],
   "id": "eb3ab68531b05b7f",
   "outputs": [
    {
     "name": "stdout",
     "output_type": "stream",
     "text": [
      "[ 0 -1  2 -1  4 -1  6 -1  8 -1]\n"
     ]
    }
   ],
   "execution_count": 4
  },
  {
   "metadata": {
    "ExecuteTime": {
     "end_time": "2024-07-09T11:36:08.851718Z",
     "start_time": "2024-07-09T11:36:08.848686Z"
    }
   },
   "cell_type": "code",
   "source": [
    "arr = np.arange(10)\n",
    "arr_2d = arr.reshape(2, -1)\n",
    "print(arr_2d)"
   ],
   "id": "5a2f0ed704cd50e3",
   "outputs": [
    {
     "name": "stdout",
     "output_type": "stream",
     "text": [
      "[[0 1 2 3 4]\n",
      " [5 6 7 8 9]]\n"
     ]
    }
   ],
   "execution_count": 5
  },
  {
   "metadata": {
    "ExecuteTime": {
     "end_time": "2024-07-09T12:40:52.652463Z",
     "start_time": "2024-07-09T12:40:52.648909Z"
    }
   },
   "cell_type": "code",
   "source": [
    "arr1 = np.arange(10).reshape(2, -1)\n",
    "arr2 = np.repeat(1, 10).reshape(2, -1)\n",
    "c = np.concatenate([arr1, arr2], axis=0)\n",
    "print(c)"
   ],
   "id": "7b0fb66900f822f3",
   "outputs": [
    {
     "name": "stdout",
     "output_type": "stream",
     "text": [
      "[[0 1 2 3 4]\n",
      " [5 6 7 8 9]\n",
      " [1 1 1 1 1]\n",
      " [1 1 1 1 1]]\n"
     ]
    }
   ],
   "execution_count": 6
  },
  {
   "metadata": {
    "ExecuteTime": {
     "end_time": "2024-07-09T12:46:45.759025Z",
     "start_time": "2024-07-09T12:46:45.756549Z"
    }
   },
   "cell_type": "code",
   "source": [
    "arr1 = np.arange(10).reshape(2, -1)\n",
    "arr2 = np.repeat(1, 10).reshape(2, -1)\n",
    "c = np.concatenate([arr1, arr2], axis=1)\n",
    "print(c)"
   ],
   "id": "48240d7b2f271c01",
   "outputs": [
    {
     "name": "stdout",
     "output_type": "stream",
     "text": [
      "[[0 1 2 3 4 1 1 1 1 1]\n",
      " [5 6 7 8 9 1 1 1 1 1]]\n"
     ]
    }
   ],
   "execution_count": 7
  },
  {
   "metadata": {
    "ExecuteTime": {
     "end_time": "2024-07-09T12:59:16.553637Z",
     "start_time": "2024-07-09T12:59:16.551319Z"
    }
   },
   "cell_type": "code",
   "source": [
    "arr = np.array([1, 2, 3])\n",
    "print(np.repeat(arr, 3))\n",
    "print(np.tile(arr, 3))"
   ],
   "id": "6418dd0deed0d17e",
   "outputs": [
    {
     "name": "stdout",
     "output_type": "stream",
     "text": [
      "[1 1 1 2 2 2 3 3 3]\n",
      "[1 2 3 1 2 3 1 2 3]\n"
     ]
    }
   ],
   "execution_count": 9
  },
  {
   "metadata": {
    "ExecuteTime": {
     "end_time": "2024-07-09T13:09:27.699833Z",
     "start_time": "2024-07-09T13:09:27.697290Z"
    }
   },
   "cell_type": "code",
   "source": [
    "import numpy as np\n",
    "\n",
    "\n",
    "def maxx(x, y):\n",
    "    if x >= y:\n",
    "        return x\n",
    "    else:\n",
    "        return y\n",
    "\n",
    "\n",
    "a = np.array([5, 7, 9, 8, 6, 4, 5])\n",
    "b = np.array([6, 3, 4, 8, 9, 7, 1])\n",
    "\n",
    "pair_max = np.vectorize(maxx, otypes=[float])\n",
    "print(pair_max(a, b))"
   ],
   "id": "42da0fb5fe26ec88",
   "outputs": [
    {
     "name": "stdout",
     "output_type": "stream",
     "text": [
      "[6. 7. 9. 8. 9. 7. 5.]\n"
     ]
    }
   ],
   "execution_count": 11
  },
  {
   "metadata": {
    "ExecuteTime": {
     "end_time": "2024-07-09T13:17:36.076080Z",
     "start_time": "2024-07-09T13:17:36.073537Z"
    }
   },
   "cell_type": "code",
   "source": [
    "a = np.array([5,7,9,8,6,4,5])\n",
    "b = np.array([6,3,4,8,9,7,1])\n",
    "\n",
    "print(\"Result\", np.where(a<b,b,a))"
   ],
   "id": "2f25ff442ba9cdbc",
   "outputs": [
    {
     "name": "stdout",
     "output_type": "stream",
     "text": [
      "Result [6 7 9 8 9 7 5]\n"
     ]
    }
   ],
   "execution_count": 12
  },
  {
   "metadata": {
    "ExecuteTime": {
     "end_time": "2024-07-09T14:08:11.273722Z",
     "start_time": "2024-07-09T14:07:57.906749Z"
    }
   },
   "cell_type": "code",
   "source": "!gdown 1i9dqan21DjQoG5Q_VEvm0LrVwAlXD0vB",
   "id": "47a503e04d199996",
   "outputs": [
    {
     "name": "stdout",
     "output_type": "stream",
     "text": [
      "Downloading...\r\n",
      "From: https://drive.google.com/uc?id=1i9dqan21DjQoG5Q_VEvm0LrVwAlXD0vB\r\n",
      "To: /home/daoan/Projects/AIO-2024/Module2/dog.jpeg\r\n",
      "100%|███████████████████████████████████████| 33.7k/33.7k [00:00<00:00, 317kB/s]\r\n"
     ]
    }
   ],
   "execution_count": 13
  },
  {
   "metadata": {
    "ExecuteTime": {
     "end_time": "2024-07-09T14:17:07.561478Z",
     "start_time": "2024-07-09T14:17:07.546304Z"
    }
   },
   "cell_type": "code",
   "source": [
    "import matplotlib.image as mpimg\n",
    "img = mpimg.imread(\"dog.jpeg\")\n",
    "gray_img = (np.max(img[:, :, :3], axis=2) + np.min(img[:, :, :3], axis=2)) / 2\n",
    "gray_img[0, 0]"
   ],
   "id": "9f12940102b23220",
   "outputs": [
    {
     "data": {
      "text/plain": [
       "102.5"
      ]
     },
     "execution_count": 30,
     "metadata": {},
     "output_type": "execute_result"
    }
   ],
   "execution_count": 30
  },
  {
   "metadata": {
    "ExecuteTime": {
     "end_time": "2024-07-13T12:19:04.434393Z",
     "start_time": "2024-07-13T12:18:59.468137Z"
    }
   },
   "cell_type": "code",
   "source": [
    "!gdown 1i9dqan21DjQoG5Q_VEvm0LrVwAlXD0vB\n",
    "\n",
    "import matplotlib.image as mpimg\n",
    "img = mpimg.imread(\"dog.jpeg\")\n",
    "gray_img_02 = (np.average(img[:, :, :3], axis=2))\n",
    "gray_img_02[0, 0]"
   ],
   "id": "bd2c873a0c634908",
   "outputs": [
    {
     "name": "stdout",
     "output_type": "stream",
     "text": [
      "Downloading...\r\n",
      "From: https://drive.google.com/uc?id=1i9dqan21DjQoG5Q_VEvm0LrVwAlXD0vB\r\n",
      "To: /home/daoan/Projects/AIO-2024/Module2/dog.jpeg\r\n",
      "100%|███████████████████████████████████████| 33.7k/33.7k [00:00<00:00, 217kB/s]\r\n"
     ]
    },
    {
     "data": {
      "text/plain": [
       "107.66666666666667"
      ]
     },
     "execution_count": 31,
     "metadata": {},
     "output_type": "execute_result"
    }
   ],
   "execution_count": 31
  },
  {
   "metadata": {
    "ExecuteTime": {
     "end_time": "2024-07-13T12:27:06.770196Z",
     "start_time": "2024-07-13T12:27:01.625884Z"
    }
   },
   "cell_type": "code",
   "source": [
    "!gdown 1i9dqan21DjQoG5Q_VEvm0LrVwAlXD0vB\n",
    "\n",
    "import matplotlib.image as mpimg\n",
    "img = mpimg.imread(\"dog.jpeg\")\n",
    "gray_img_03 = (np.dot(img[:, :, :3], [0.21, 0.72, 0.07]))\n",
    "gray_img_03[0, 0]"
   ],
   "id": "ed4d39bc13585d45",
   "outputs": [
    {
     "name": "stdout",
     "output_type": "stream",
     "text": [
      "Downloading...\r\n",
      "From: https://drive.google.com/uc?id=1i9dqan21DjQoG5Q_VEvm0LrVwAlXD0vB\r\n",
      "To: /home/daoan/Projects/AIO-2024/Module2/dog.jpeg\r\n",
      "100%|███████████████████████████████████████| 33.7k/33.7k [00:00<00:00, 207kB/s]\r\n"
     ]
    },
    {
     "data": {
      "text/plain": [
       "126.22999999999999"
      ]
     },
     "execution_count": 33,
     "metadata": {},
     "output_type": "execute_result"
    }
   ],
   "execution_count": 33
  },
  {
   "metadata": {
    "ExecuteTime": {
     "end_time": "2024-07-13T13:13:18.790200Z",
     "start_time": "2024-07-13T13:13:08.801660Z"
    }
   },
   "cell_type": "code",
   "source": [
    "!gdown 1iA0WmVfW88HyJvTBSQDI5vesf-pgKabq\n",
    "\n",
    "import pandas as pd\n",
    "df = pd.read_csv(\"advertising.csv\")\n",
    "data = df.to_numpy()"
   ],
   "id": "6463710e351564b2",
   "outputs": [
    {
     "name": "stdout",
     "output_type": "stream",
     "text": [
      "Downloading...\r\n",
      "From: https://drive.google.com/uc?id=1iA0WmVfW88HyJvTBSQDI5vesf-pgKabq\r\n",
      "To: /home/daoan/Projects/AIO-2024/Module2/advertising.csv\r\n",
      "100%|███████████████████████████████████████| 4.06k/4.06k [00:00<00:00, 690kB/s]\r\n"
     ]
    }
   ],
   "execution_count": 75
  },
  {
   "metadata": {
    "ExecuteTime": {
     "end_time": "2024-07-13T12:36:20.577665Z",
     "start_time": "2024-07-13T12:36:20.574009Z"
    }
   },
   "cell_type": "code",
   "source": [
    "# select 3rd column\n",
    "max = np.max(data[:, 3])\n",
    "print(max)\n",
    "# get max index\n",
    "max_index = np.argmax(data[:, 3])\n",
    "print(max_index)"
   ],
   "id": "b6dce54454ff2a6",
   "outputs": [
    {
     "name": "stdout",
     "output_type": "stream",
     "text": [
      "27.0\n",
      "175\n"
     ]
    }
   ],
   "execution_count": 51
  },
  {
   "metadata": {
    "ExecuteTime": {
     "end_time": "2024-07-13T12:36:48.580629Z",
     "start_time": "2024-07-13T12:36:48.578048Z"
    }
   },
   "cell_type": "code",
   "source": "np.average(data[:, 0])",
   "id": "f160431817d69c70",
   "outputs": [
    {
     "data": {
      "text/plain": [
       "147.0425"
      ]
     },
     "execution_count": 52,
     "metadata": {},
     "output_type": "execute_result"
    }
   ],
   "execution_count": 52
  },
  {
   "metadata": {
    "ExecuteTime": {
     "end_time": "2024-07-13T12:39:08.007835Z",
     "start_time": "2024-07-13T12:39:08.004199Z"
    }
   },
   "cell_type": "code",
   "source": "np.size(np.where(data[:, 3] >= 20))",
   "id": "ca6dab995bcd61ee",
   "outputs": [
    {
     "data": {
      "text/plain": [
       "40"
      ]
     },
     "execution_count": 55,
     "metadata": {},
     "output_type": "execute_result"
    }
   ],
   "execution_count": 55
  },
  {
   "metadata": {
    "ExecuteTime": {
     "end_time": "2024-07-13T12:45:20.931608Z",
     "start_time": "2024-07-13T12:45:20.921492Z"
    }
   },
   "cell_type": "code",
   "source": [
    "index_list = np.argwhere(data[:, 3] >= 15)\n",
    "sum = 0\n",
    "for i in index_list:\n",
    "    sum += data[i, 1]\n",
    "average = sum / np.size(index_list)\n",
    "print(average)"
   ],
   "id": "c866848ef22d10c8",
   "outputs": [
    {
     "name": "stdout",
     "output_type": "stream",
     "text": [
      "[26.22293578]\n"
     ]
    }
   ],
   "execution_count": 59
  },
  {
   "metadata": {
    "ExecuteTime": {
     "end_time": "2024-07-13T12:55:14.470748Z",
     "start_time": "2024-07-13T12:55:14.467675Z"
    }
   },
   "cell_type": "code",
   "source": [
    "newspaper_avg = np.average(data[:, 2])\n",
    "sum = 0\n",
    "for i in range(np.size(data, 0)):\n",
    "    if data[i, 2] > newspaper_avg:\n",
    "       sum += data[i, 3]\n",
    "sum"
   ],
   "id": "d30a9420bb9f3788",
   "outputs": [
    {
     "data": {
      "text/plain": [
       "1405.1000000000004"
      ]
     },
     "execution_count": 60,
     "metadata": {},
     "output_type": "execute_result"
    }
   ],
   "execution_count": 60
  },
  {
   "metadata": {
    "ExecuteTime": {
     "end_time": "2024-07-13T13:13:24.138527Z",
     "start_time": "2024-07-13T13:13:24.125629Z"
    }
   },
   "cell_type": "code",
   "source": [
    "# fill by condition\n",
    "sales_avg = np.average(data[:, 3])\n",
    "print(sales_avg)\n",
    "arr = data[:, 3]\n",
    "new_arr = []\n",
    "for i in range(np.size(arr)):\n",
    "    if arr[i] > sales_avg:\n",
    "        new_arr.append('Good')\n",
    "    elif arr[i] < sales_avg:\n",
    "        new_arr.append('Bad')\n",
    "    else:\n",
    "        new_arr.append('Average')\n",
    "new_arr[7:10]"
   ],
   "id": "2f8dd49f2b135f26",
   "outputs": [
    {
     "name": "stdout",
     "output_type": "stream",
     "text": [
      "15.130500000000001\n"
     ]
    },
    {
     "data": {
      "text/plain": [
       "['Bad', 'Bad', 'Good']"
      ]
     },
     "execution_count": 76,
     "metadata": {},
     "output_type": "execute_result"
    }
   ],
   "execution_count": 76
  },
  {
   "metadata": {
    "ExecuteTime": {
     "end_time": "2024-07-13T13:12:13.457542Z",
     "start_time": "2024-07-13T13:12:13.453848Z"
    }
   },
   "cell_type": "code",
   "source": [
    "import pandas as pd\n",
    "\n",
    "# Đọc dữ liệu từ file CSV\n",
    "df = pd.read_csv('advertising.csv')\n",
    "\n",
    "# Chuyển đổi dữ liệu thành mảng numpy\n",
    "data = df.to_numpy()\n",
    "\n",
    "# Tính giá trị trung bình của cột Sales\n",
    "mean_sales = data[:, 3].mean()\n",
    "# Tạo mảng scores\n",
    "scores = []\n",
    "\n",
    "for sale in data[:, 3]:\n",
    "    if sale > mean_sales:\n",
    "        scores.append('Good')\n",
    "    elif sale < mean_sales:\n",
    "        scores.append('Bad')\n",
    "    else:\n",
    "        scores.append('Average')\n",
    "\n",
    "# In ra kết quả scores[7:10]\n",
    "print(scores[7:10])\n"
   ],
   "id": "70a77ab4a3ab0d2c",
   "outputs": [
    {
     "name": "stdout",
     "output_type": "stream",
     "text": [
      "15.130500000000001\n",
      "['Bad', 'Bad', 'Good']\n"
     ]
    }
   ],
   "execution_count": 74
  },
  {
   "metadata": {},
   "cell_type": "code",
   "outputs": [],
   "execution_count": null,
   "source": "",
   "id": "cca3c950677795eb"
  }
 ],
 "metadata": {
  "kernelspec": {
   "display_name": "Python 3",
   "language": "python",
   "name": "python3"
  },
  "language_info": {
   "codemirror_mode": {
    "name": "ipython",
    "version": 2
   },
   "file_extension": ".py",
   "mimetype": "text/x-python",
   "name": "python",
   "nbconvert_exporter": "python",
   "pygments_lexer": "ipython2",
   "version": "2.7.6"
  }
 },
 "nbformat": 4,
 "nbformat_minor": 5
}
