{
 "cells": [
  {
   "cell_type": "code",
   "id": "initial_id",
   "metadata": {
    "collapsed": true,
    "ExecuteTime": {
     "end_time": "2024-07-21T09:07:22.091908Z",
     "start_time": "2024-07-21T09:07:22.088255Z"
    }
   },
   "source": [
    "import numpy as np\n",
    "\n",
    "def compute_vector_length(v):\n",
    "    return np.linalg.norm(v)\n",
    "\n",
    "def compute_dot_product(v1, v2):\n",
    "    return np.dot(v1, v2)\n",
    "\n",
    "def matrix_multi_vector(matrix, vector):\n",
    "    return np.dot(matrix, vector)\n",
    "\n",
    "def matrix_multi_matrix(matrix1, matrix2):\n",
    "    return np.dot(matrix1, matrix2)\n",
    "\n",
    "def invert_matrix(matrix):\n",
    "    return np.linalg.inv(matrix)\n",
    "\n",
    "def compute_eigenvalues_eigenvector(matrix):\n",
    "    return np.linalg.eig(matrix)\n",
    "\n",
    "def compute_cosine_similarity(v1, v2):\n",
    "    return np.dot(v1, v2) / (np.linalg.norm(v1) * np.linalg.norm(v2))\n",
    "\n"
   ],
   "outputs": [],
   "execution_count": 4
  },
  {
   "metadata": {
    "jupyter": {
     "is_executing": true
    },
    "ExecuteTime": {
     "start_time": "2024-07-21T10:20:56.230220Z"
    }
   },
   "cell_type": "code",
   "source": [
    "import cv2\n",
    "import numpy as np\n",
    "\n",
    "def get_background_image():\n",
    "    return cv2.imread('Image data/GreenBackground.png')\n",
    "\n",
    "def get_incoming_image():\n",
    "    return cv2.imread('Image data/Object.png')\n",
    "\n",
    "def get_fake_background():\n",
    "    return cv2.imread('Image data/NewBackground.jpg')\n",
    "\n",
    "def show_image(image, title='Image'):\n",
    "    # Hiển thị hình ảnh sử dụng OpenCV\n",
    "    cv2.imshow(title, image)\n",
    "    cv2.waitKey(0)\n",
    "    cv2.destroyAllWindows()\n",
    "\n",
    "def resize_image(image, target_size):\n",
    "    # Thay đổi kích thước ảnh để phù hợp với kích thước mục tiêu\n",
    "    return cv2.resize(image, target_size, interpolation=cv2.INTER_AREA)\n",
    "\n",
    "def background_subtraction():\n",
    "    # Nhận diện hình nền và hình ảnh tới\n",
    "    background = get_background_image()\n",
    "    incoming_image = get_incoming_image()\n",
    "    fake_background = get_fake_background()\n",
    "\n",
    "    # Lấy kích thước của ảnh nền để làm kích thước mục tiêu\n",
    "    target_size = (background.shape[1], background.shape[0])\n",
    "\n",
    "    # Thay đổi kích thước ảnh tới và nền giả để phù hợp với kích thước ảnh nền\n",
    "    incoming_image = resize_image(incoming_image, target_size)\n",
    "    fake_background = resize_image(fake_background, target_size)\n",
    "\n",
    "    # Tính toán ảnh chênh lệch\n",
    "    difference = cv2.absdiff(incoming_image, background)\n",
    "\n",
    "    # Tạo mặt nạ\n",
    "    threshold = 15\n",
    "    _, mask = cv2.threshold(difference, threshold, 255, cv2.THRESH_BINARY)\n",
    "\n",
    "    # Tạo ảnh đầu ra\n",
    "    output_image = np.where(mask == 0, fake_background, incoming_image)\n",
    "\n",
    "    # Hiển thị ảnh đầu ra\n",
    "    show_image(output_image, 'Output Image')\n",
    "\n",
    "background_subtraction()\n"
   ],
   "id": "ee715a5ee8e82610",
   "outputs": [],
   "execution_count": null
  },
  {
   "metadata": {},
   "cell_type": "markdown",
   "source": "",
   "id": "69c0d9543ee540a8"
  },
  {
   "metadata": {
    "ExecuteTime": {
     "end_time": "2024-07-21T09:07:28.217375Z",
     "start_time": "2024-07-21T09:07:28.213618Z"
    }
   },
   "cell_type": "code",
   "source": [
    "vector = np.array([-2, 4, 9, 21])\n",
    "result = compute_vector_length([vector])\n",
    "print(round(result, 2))\n"
   ],
   "id": "2fc3e6b7f4dca818",
   "outputs": [
    {
     "name": "stdout",
     "output_type": "stream",
     "text": [
      "23.28\n"
     ]
    }
   ],
   "execution_count": 5
  },
  {
   "metadata": {
    "ExecuteTime": {
     "end_time": "2024-07-21T09:08:30.147824Z",
     "start_time": "2024-07-21T09:08:30.144766Z"
    }
   },
   "cell_type": "code",
   "source": [
    "v1 = np.array([0, 1, -1, 2])\n",
    "v2 = np.array([2, 5, 1, 0])\n",
    "result = compute_dot_product(v1, v2)\n",
    "print(round(result, 2))\n"
   ],
   "id": "3106144140d24164",
   "outputs": [
    {
     "name": "stdout",
     "output_type": "stream",
     "text": [
      "4\n"
     ]
    }
   ],
   "execution_count": 6
  },
  {
   "metadata": {
    "ExecuteTime": {
     "end_time": "2024-07-21T09:17:35.388718Z",
     "start_time": "2024-07-21T09:17:35.386375Z"
    }
   },
   "cell_type": "code",
   "source": [
    "x = np.array([[1, 2],\n",
    "              [3, 4]])\n",
    "\n",
    "k = np.array([1, 2])\n",
    "\n",
    "print('result \\n', x.dot(k))\n"
   ],
   "id": "b823c6712893886b",
   "outputs": [
    {
     "name": "stdout",
     "output_type": "stream",
     "text": [
      "result \n",
      " [ 5 11]\n"
     ]
    }
   ],
   "execution_count": 7
  },
  {
   "metadata": {
    "ExecuteTime": {
     "end_time": "2024-07-21T09:18:23.565896Z",
     "start_time": "2024-07-21T09:18:23.563137Z"
    }
   },
   "cell_type": "code",
   "source": [
    "x = np.array([[-1, 2],\n",
    "              [3, -4]])\n",
    "\n",
    "k = np.array([1, 2])\n",
    "\n",
    "print('result \\n', x @ k)\n"
   ],
   "id": "e9e1daefc98c04d4",
   "outputs": [
    {
     "name": "stdout",
     "output_type": "stream",
     "text": [
      "result \n",
      " [ 3 -5]\n"
     ]
    }
   ],
   "execution_count": 8
  },
  {
   "metadata": {
    "ExecuteTime": {
     "end_time": "2024-07-21T09:19:05.825103Z",
     "start_time": "2024-07-21T09:19:05.823120Z"
    }
   },
   "cell_type": "code",
   "source": [
    "m = np.array([[-1, 1, 1], \n",
    "              [0, -4, 9]])\n",
    "v = np.array([0, 2, 1])\n",
    "\n",
    "result = matrix_multi_vector(m, v)\n",
    "print(result)\n"
   ],
   "id": "a1d48483dafa581",
   "outputs": [
    {
     "name": "stdout",
     "output_type": "stream",
     "text": [
      "[3 1]\n"
     ]
    }
   ],
   "execution_count": 9
  },
  {
   "metadata": {
    "ExecuteTime": {
     "end_time": "2024-07-21T09:20:03.664531Z",
     "start_time": "2024-07-21T09:20:03.661883Z"
    }
   },
   "cell_type": "code",
   "source": [
    "m1 = np.array([[0, 1, 2], \n",
    "               [2, -3, 1]])\n",
    "m2 = np.array([[1, -3], \n",
    "               [6, 1], \n",
    "               [0, -1]])\n",
    "result = matrix_multi_matrix(m1, m2)\n",
    "print(result)\n"
   ],
   "id": "96366260893c9f79",
   "outputs": [
    {
     "name": "stdout",
     "output_type": "stream",
     "text": [
      "[[  6  -1]\n",
      " [-16 -10]]\n"
     ]
    }
   ],
   "execution_count": 10
  },
  {
   "metadata": {
    "ExecuteTime": {
     "end_time": "2024-07-21T09:21:35.546620Z",
     "start_time": "2024-07-21T09:21:35.543307Z"
    }
   },
   "cell_type": "code",
   "source": [
    "m1 = np.eye(3)\n",
    "m2 = np.array([[1, 1, 1],\n",
    "               [2, 2, 2],\n",
    "               [3, 3, 3]])\n",
    "result = m1 @ m2\n",
    "print(result)\n"
   ],
   "id": "b887800e5afaedec",
   "outputs": [
    {
     "name": "stdout",
     "output_type": "stream",
     "text": [
      "[[1. 1. 1.]\n",
      " [2. 2. 2.]\n",
      " [3. 3. 3.]]\n"
     ]
    }
   ],
   "execution_count": 11
  },
  {
   "metadata": {
    "ExecuteTime": {
     "end_time": "2024-07-21T09:22:33.214894Z",
     "start_time": "2024-07-21T09:22:33.211965Z"
    }
   },
   "cell_type": "code",
   "source": [
    "m1 = np.eye(2)\n",
    "\n",
    "m1 = np.reshape(m1, (-1, 4))[0]\n",
    "\n",
    "m2 = np.array([[1, 1, 1, 1],\n",
    "               [2, 2, 2, 2],\n",
    "               [3, 3, 3, 3],\n",
    "               [4, 4, 4, 4]])\n",
    "\n",
    "result = m1 @ m2\n",
    "\n",
    "print(result)\n"
   ],
   "id": "7a01c0441c717292",
   "outputs": [
    {
     "name": "stdout",
     "output_type": "stream",
     "text": [
      "[5. 5. 5. 5.]\n"
     ]
    }
   ],
   "execution_count": 12
  },
  {
   "metadata": {
    "ExecuteTime": {
     "end_time": "2024-07-21T09:23:35.661178Z",
     "start_time": "2024-07-21T09:23:35.658615Z"
    }
   },
   "cell_type": "code",
   "source": [
    "m1 = np.array([[1, 2], \n",
    "               [3, 4]])\n",
    "\n",
    "m1 = np.reshape(m1, (-1, 4), \"F\")[0]\n",
    "\n",
    "m2 = np.array([[1, 1, 1, 1],\n",
    "               [2, 2, 2, 2],\n",
    "               [3, 3, 3, 3],\n",
    "               [4, 4, 4, 4]])\n",
    "\n",
    "result = m1 @ m2\n",
    "\n",
    "print(result)\n"
   ],
   "id": "97fca4533ac80ccb",
   "outputs": [
    {
     "name": "stdout",
     "output_type": "stream",
     "text": [
      "[29 29 29 29]\n"
     ]
    }
   ],
   "execution_count": 13
  },
  {
   "metadata": {
    "ExecuteTime": {
     "end_time": "2024-07-21T09:28:39.551419Z",
     "start_time": "2024-07-21T09:28:39.548565Z"
    }
   },
   "cell_type": "code",
   "source": [
    "m1 = np.array([[-2, 6], \n",
    "               [8, -4]])\n",
    "result = invert_matrix(m1)\n",
    "print(result)\n"
   ],
   "id": "e2452a8b0c163e62",
   "outputs": [
    {
     "name": "stdout",
     "output_type": "stream",
     "text": [
      "[[0.1  0.15]\n",
      " [0.2  0.05]]\n"
     ]
    }
   ],
   "execution_count": 14
  },
  {
   "metadata": {
    "ExecuteTime": {
     "end_time": "2024-07-21T09:33:59.451208Z",
     "start_time": "2024-07-21T09:33:59.445226Z"
    }
   },
   "cell_type": "code",
   "source": [
    "matrix = np.array([[0.9, 0.2], \n",
    "                   [0.1, 0.8]])\n",
    "eigenvalues, eigenvectors = compute_eigenvalues_eigenvector(matrix)\n",
    "print(eigenvectors)\n"
   ],
   "id": "ec022ceb1f67239a",
   "outputs": [
    {
     "name": "stdout",
     "output_type": "stream",
     "text": [
      "[[ 0.89442719 -0.70710678]\n",
      " [ 0.4472136   0.70710678]]\n"
     ]
    }
   ],
   "execution_count": 16
  },
  {
   "metadata": {
    "ExecuteTime": {
     "end_time": "2024-07-21T09:35:02.739583Z",
     "start_time": "2024-07-21T09:35:02.736663Z"
    }
   },
   "cell_type": "code",
   "source": [
    "x = np.array([1, 2, 3, 4])\n",
    "y = np.array([1, 0, 3, 0])\n",
    "result = compute_cosine_similarity(x, y)\n",
    "print(round(result, 3))\n"
   ],
   "id": "566e87d24b922e2",
   "outputs": [
    {
     "name": "stdout",
     "output_type": "stream",
     "text": [
      "0.577\n"
     ]
    }
   ],
   "execution_count": 17
  },
  {
   "metadata": {},
   "cell_type": "code",
   "outputs": [],
   "execution_count": null,
   "source": "",
   "id": "fd3888c4a60535e4"
  }
 ],
 "metadata": {
  "kernelspec": {
   "display_name": "Python 3",
   "language": "python",
   "name": "python3"
  },
  "language_info": {
   "codemirror_mode": {
    "name": "ipython",
    "version": 2
   },
   "file_extension": ".py",
   "mimetype": "text/x-python",
   "name": "python",
   "nbconvert_exporter": "python",
   "pygments_lexer": "ipython2",
   "version": "2.7.6"
  }
 },
 "nbformat": 4,
 "nbformat_minor": 5
}
