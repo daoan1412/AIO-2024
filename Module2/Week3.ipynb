{
 "cells": [
  {
   "metadata": {},
   "cell_type": "markdown",
   "source": [
    "# BINARY CLASSIFICATION - PLAY TENNIS\n",
    "\n",
    "### Xác suất tiên nghiệm P(C)\n",
    "- **P(Play Tennis = Yes)** = 6/10 = 0.6\n",
    "- **P(Play Tennis = No)** = 4/10 = 0.4\n",
    "\n",
    "### Xác suất có điều kiện P(X|C)\n",
    "- **P(Outlook = Sunny | Play Tennis = Yes)** = 1/6 = 0.167\n",
    "- **P(Outlook = Overcast | Play Tennis = Yes)** = 2/6 = 0.333\n",
    "- **P(Outlook = Rain | Play Tennis = Yes)** = 3/6 = 0.5\n",
    "- **P(Temperature = Hot | Play Tennis = Yes)** = 1/6 = 0.167\n",
    "- **P(Temperature = Cool | Play Tennis = Yes)** = 3/6 = 0.5\n",
    "- **P(Temperature = Mild | Play Tennis = Yes)** = 2/6 = 0.333\n",
    "- **P(Humidity = High | Play Tennis = Yes)** = 2/6 = 0.333\n",
    "- **P(Humidity = Normal | Play Tennis = Yes)** = 4/6 = 0.667\n",
    "- **P(Wind = Weak | Play Tennis = Yes)** = 5/6 = 0.833\n",
    "- **P(Wind = Strong | Play Tennis = Yes)** = 1/6 = 0.167\n",
    "\n",
    "- **P(Outlook = Sunny | Play Tennis = No)** = 2/4 = 0.5\n",
    "- **P(Outlook = Overcast | Play Tennis = No)** = 1/4 = 0.25\n",
    "- **P(Outlook = Rain | Play Tennis = No)** = 1/4 = 0.25\n",
    "- **P(Temperature = Hot | Play Tennis = No)** = 2/4 = 0.5\n",
    "- **P(Temperature = Cool | Play Tennis = No)** = 1/4 = 0.25\n",
    "- **P(Temperature = Mild | Play Tennis = No)** = 1/4 = 0.25\n",
    "- **P(Humidity = High | Play Tennis = No)** = 3/4 = 0.75\n",
    "- **P(Humidity = Normal | Play Tennis = No)** = 1/4 = 0.25\n",
    "- **P(Wind = Weak | Play Tennis = No)** = 2/4 = 0.5\n",
    "- **P(Wind = Strong | Play Tennis = No)** = 2/4 = 0.5\n",
    "\n",
    "### Cho sự kiện thử nghiệm:\n",
    "- **X = (Outlook = Sunny, Temperature = Cool, Humidity = High, Wind = Strong)**\n",
    "\n",
    "### Xác suất xảy ra sự kiện \"Play Tennis\" = \"Yes\" và sự kiện \"Play Tennis\" = \"No\" lần lượt là:\n",
    "- **P(X | Play Tennis = Yes)** = P(Outlook = Sunny | Play Tennis = Yes) * P(Temperature = Cool | Play Tennis = Yes) * P(Humidity = High | Play Tennis = Yes) * P(Wind = Strong | Play Tennis = Yes) * P(c) = 0.167 * 0.5 * 0.333 * 0.167 * 0.6 = 0.0027861111\n",
    "- **P(X | Play Tennis = No)** = P(Outlook = Sunny | Play Tennis = No) * P(Temperature = Cool | Play Tennis = No) * P(Humidity = High | Play Tennis = No) * P(Wind = Strong | Play Tennis = No) * P(c) = 0.5 * 0.25 * 0.75 * 0.5 * 0.4 = 0.01875\n",
    "\n",
    "### Khi xảy ra sự kiện X, nhãn của \"Play Tennis\" sẽ là:\n",
    "- **P(Play Tennis = Yes | X)** = P(X | Play Tennis = Yes) * P(Play Tennis = Yes) = 0.0027861111 * 0.6 = 0.0016716667\n",
    "- **P(Play Tennis = No | X)** = P(X | Play Tennis = No) * P(Play Tennis = No) = 0.01875 * 0.4 = 0.0075\n",
    "\n",
    "**Vậy nhãn của sự kiện X là \"Play Tennis\" = \"No\".**\n",
    "\n"
   ],
   "id": "7939a7519a568719"
  },
  {
   "metadata": {},
   "cell_type": "markdown",
   "source": "",
   "id": "3084aeb0785a732a"
  },
  {
   "metadata": {
    "ExecuteTime": {
     "end_time": "2024-08-04T06:35:46.702144Z",
     "start_time": "2024-08-04T06:35:46.699324Z"
    }
   },
   "cell_type": "code",
   "source": [
    "import numpy as np\n",
    "\n",
    "def create_train_dataset():\n",
    "    # Create the training data as a numpy array\n",
    "    data = np.array([\n",
    "        ['Sunny', 'Hot', 'High', 'Weak', 'no'],\n",
    "        ['Sunny', 'Hot', 'High', 'Strong', 'no'],\n",
    "        ['Overcast', 'Hot', 'High', 'Weak', 'yes'],\n",
    "        ['Rain', 'Mild', 'High', 'Weak', 'yes'],\n",
    "        ['Rain', 'Cool', 'Normal', 'Weak', 'yes'],\n",
    "        ['Rain', 'Cool', 'Normal', 'Strong', 'no'],\n",
    "        ['Overcast', 'Cool', 'Normal', 'Strong', 'yes'],\n",
    "        ['Overcast', 'Mild', 'High', 'Weak', 'no'],\n",
    "        ['Sunny', 'Cool', 'Normal', 'Weak', 'yes'],\n",
    "        ['Rain', 'Mild', 'Normal', 'Weak', 'yes']\n",
    "    ])\n",
    "    return data\n",
    "\n",
    "train_data = create_train_dataset()\n",
    "print(train_data)\n"
   ],
   "id": "b0719903a1f02515",
   "outputs": [
    {
     "name": "stdout",
     "output_type": "stream",
     "text": [
      "[['Sunny' 'Hot' 'High' 'Weak' 'no']\n",
      " ['Sunny' 'Hot' 'High' 'Strong' 'no']\n",
      " ['Overcast' 'Hot' 'High' 'Weak' 'yes']\n",
      " ['Rain' 'Mild' 'High' 'Weak' 'yes']\n",
      " ['Rain' 'Cool' 'Normal' 'Weak' 'yes']\n",
      " ['Rain' 'Cool' 'Normal' 'Strong' 'no']\n",
      " ['Overcast' 'Cool' 'Normal' 'Strong' 'yes']\n",
      " ['Overcast' 'Mild' 'High' 'Weak' 'no']\n",
      " ['Sunny' 'Cool' 'Normal' 'Weak' 'yes']\n",
      " ['Rain' 'Mild' 'Normal' 'Weak' 'yes']]\n"
     ]
    }
   ],
   "execution_count": 24
  },
  {
   "metadata": {
    "ExecuteTime": {
     "end_time": "2024-08-04T06:36:42.685767Z",
     "start_time": "2024-08-04T06:36:42.681350Z"
    }
   },
   "cell_type": "code",
   "source": [
    "import numpy as np\n",
    "\n",
    "def compute_prior_probability(train_data):\n",
    "    y_unique = ['no', 'yes']\n",
    "    prior_probability = np.zeros(len(y_unique))\n",
    "    \n",
    "    # Count the occurrences of each class\n",
    "    total_count = len(train_data)\n",
    "    no_count = np.sum(train_data[:, -1] == 'no')\n",
    "    yes_count = np.sum(train_data[:, -1] == 'yes')\n",
    "    \n",
    "    # Calculate prior probabilities\n",
    "    prior_probability[0] = no_count / total_count\n",
    "    prior_probability[1] = yes_count / total_count\n",
    "    \n",
    "    return prior_probability\n",
    "\n",
    "# Using the previously created training dataset\n",
    "train_data = create_train_dataset()\n",
    "prior_probability = compute_prior_probability(train_data)\n",
    "\n",
    "print(\"P(play tennis = No):\", prior_probability[0])\n",
    "print(\"P(play tennis = Yes):\", prior_probability[1])\n"
   ],
   "id": "75ff008c787c83b3",
   "outputs": [
    {
     "name": "stdout",
     "output_type": "stream",
     "text": [
      "P(play tennis = No): 0.4\n",
      "P(play tennis = Yes): 0.6\n"
     ]
    }
   ],
   "execution_count": 25
  },
  {
   "metadata": {
    "ExecuteTime": {
     "end_time": "2024-08-04T06:37:43.599395Z",
     "start_time": "2024-08-04T06:37:43.595856Z"
    }
   },
   "cell_type": "code",
   "source": [
    "import numpy as np\n",
    "\n",
    "def compute_conditional_probability(train_data):\n",
    "    y_unique = ['no', 'yes']\n",
    "    conditional_probability = []\n",
    "    list_x_name = []\n",
    "\n",
    "    for i in range(0, train_data.shape[1] - 1):\n",
    "        x_unique = np.unique(train_data[:, i])\n",
    "        list_x_name.append(x_unique)\n",
    "        \n",
    "        x_conditional_probability = {}\n",
    "        for x_value in x_unique:\n",
    "            x_conditional_probability[x_value] = {}\n",
    "            for y_value in y_unique:\n",
    "                # Calculate P(X=x | Y=y)\n",
    "                count_x_and_y = np.sum((train_data[:, i] == x_value) & (train_data[:, -1] == y_value))\n",
    "                count_y = np.sum(train_data[:, -1] == y_value)\n",
    "                x_conditional_probability[x_value][y_value] = count_x_and_y / count_y\n",
    "\n",
    "        conditional_probability.append(x_conditional_probability)\n",
    "\n",
    "    return conditional_probability, list_x_name\n",
    "\n",
    "# Example usage with the training dataset\n",
    "train_data = create_train_dataset()\n",
    "conditional_probability, list_x_name = compute_conditional_probability(train_data)\n",
    "\n",
    "print(\"Conditional Probability:\", conditional_probability)\n",
    "print(\"List of X names:\", list_x_name)\n"
   ],
   "id": "7b03471aa6c3ec0b",
   "outputs": [
    {
     "name": "stdout",
     "output_type": "stream",
     "text": [
      "Conditional Probability: [{'Overcast': {'no': 0.25, 'yes': 0.3333333333333333}, 'Rain': {'no': 0.25, 'yes': 0.5}, 'Sunny': {'no': 0.5, 'yes': 0.16666666666666666}}, {'Cool': {'no': 0.25, 'yes': 0.5}, 'Hot': {'no': 0.5, 'yes': 0.16666666666666666}, 'Mild': {'no': 0.25, 'yes': 0.3333333333333333}}, {'High': {'no': 0.75, 'yes': 0.3333333333333333}, 'Normal': {'no': 0.25, 'yes': 0.6666666666666666}}, {'Strong': {'no': 0.5, 'yes': 0.16666666666666666}, 'Weak': {'no': 0.5, 'yes': 0.8333333333333334}}]\n",
      "List of X names: [array(['Overcast', 'Rain', 'Sunny'], dtype='<U8'), array(['Cool', 'Hot', 'Mild'], dtype='<U8'), array(['High', 'Normal'], dtype='<U8'), array(['Strong', 'Weak'], dtype='<U8')]\n"
     ]
    }
   ],
   "execution_count": 26
  },
  {
   "metadata": {
    "ExecuteTime": {
     "end_time": "2024-08-04T06:38:24.065921Z",
     "start_time": "2024-08-04T06:38:24.062374Z"
    }
   },
   "cell_type": "code",
   "source": [
    "train_data = create_train_dataset()\n",
    "_, list_x_name = compute_conditional_probability(train_data)\n",
    "\n",
    "print(\"x1 = \", list_x_name[0])\n",
    "print(\"x2 = \", list_x_name[1])\n",
    "print(\"x3 = \", list_x_name[2])\n",
    "print(\"x4 = \", list_x_name[3])\n"
   ],
   "id": "32c9529cfd2ba719",
   "outputs": [
    {
     "name": "stdout",
     "output_type": "stream",
     "text": [
      "x1 =  ['Overcast' 'Rain' 'Sunny']\n",
      "x2 =  ['Cool' 'Hot' 'Mild']\n",
      "x3 =  ['High' 'Normal']\n",
      "x4 =  ['Strong' 'Weak']\n"
     ]
    }
   ],
   "execution_count": 27
  },
  {
   "metadata": {
    "ExecuteTime": {
     "end_time": "2024-08-04T06:40:02.395158Z",
     "start_time": "2024-08-04T06:40:02.392681Z"
    }
   },
   "cell_type": "code",
   "source": [
    "import numpy as np\n",
    "\n",
    "# This function is used to return the index of the feature name\n",
    "def get_index_from_value(feature_name, list_features):\n",
    "    return np.where(list_features == feature_name)[0][0]\n",
    "\n",
    "# Example usage:\n",
    "train_data = create_train_dataset()\n",
    "_, list_x_name = compute_conditional_probability(train_data)\n",
    "outlook = list_x_name[0]\n",
    "\n",
    "i1 = get_index_from_value(\"Overcast\", outlook)\n",
    "i2 = get_index_from_value(\"Rain\", outlook)\n",
    "i3 = get_index_from_value(\"Sunny\", outlook)\n",
    "\n",
    "print(i1, i2, i3)\n"
   ],
   "id": "a3d6843e5e4ef05",
   "outputs": [
    {
     "name": "stdout",
     "output_type": "stream",
     "text": [
      "0 1 2\n"
     ]
    }
   ],
   "execution_count": 28
  },
  {
   "metadata": {
    "ExecuteTime": {
     "end_time": "2024-08-04T06:40:57.215114Z",
     "start_time": "2024-08-04T06:40:57.212246Z"
    }
   },
   "cell_type": "code",
   "source": [
    "train_data = create_train_dataset()\n",
    "conditional_probability, list_x_name = compute_conditional_probability(train_data)\n",
    "\n",
    "# Compute P(Outlook=\"Sunny\" | Play Tennis=\"Yes\")\n",
    "x1 = get_index_from_value(\"Sunny\", list_x_name[0])\n",
    "print(\"P('Outlook'='Sunny'|Play Tennis'='Yes') = \", np.round(conditional_probability[0][\"Sunny\"][\"yes\"], 2))\n"
   ],
   "id": "f5229cc8aa2ad142",
   "outputs": [
    {
     "name": "stdout",
     "output_type": "stream",
     "text": [
      "P('Outlook'='Sunny'|Play Tennis'='Yes') =  0.17\n"
     ]
    }
   ],
   "execution_count": 29
  },
  {
   "metadata": {
    "ExecuteTime": {
     "end_time": "2024-08-04T06:41:50.740533Z",
     "start_time": "2024-08-04T06:41:50.736539Z"
    }
   },
   "cell_type": "code",
   "source": [
    "train_data = create_train_dataset()\n",
    "conditional_probability, list_x_name = compute_conditional_probability(train_data)\n",
    "\n",
    "# Compute P(Outlook=\"Sunny\" | Play Tennis=\"No\")\n",
    "x1 = get_index_from_value(\"Sunny\", list_x_name[0])\n",
    "print(\"P('Outlook'='Sunny'|Play Tennis'='No') = \", np.round(conditional_probability[0][\"Sunny\"][\"no\"], 2))\n"
   ],
   "id": "5f8816e0d7bc7994",
   "outputs": [
    {
     "name": "stdout",
     "output_type": "stream",
     "text": [
      "P('Outlook'='Sunny'|Play Tennis'='No') =  0.5\n"
     ]
    }
   ],
   "execution_count": 30
  },
  {
   "metadata": {
    "ExecuteTime": {
     "end_time": "2024-08-04T06:43:16.308245Z",
     "start_time": "2024-08-04T06:43:16.305079Z"
    }
   },
   "cell_type": "code",
   "source": [
    "def train_naive_bayes(train_data):\n",
    "    # Step 1: Calculate Prior Probability\n",
    "    y_unique = ['no', 'yes']\n",
    "    prior_probability = compute_prior_probability(train_data)\n",
    "    \n",
    "    # Step 2: Calculate Conditional Probability\n",
    "    conditional_probability, list_x_name = compute_conditional_probability(train_data)\n",
    "    \n",
    "    return prior_probability, conditional_probability, list_x_name\n"
   ],
   "id": "25efb540fe9ed03d",
   "outputs": [],
   "execution_count": 31
  },
  {
   "metadata": {
    "ExecuteTime": {
     "end_time": "2024-08-04T06:43:22.527705Z",
     "start_time": "2024-08-04T06:43:22.525229Z"
    }
   },
   "cell_type": "code",
   "source": [
    "def prediction_play_tennis(X, list_x_name, prior_probability, conditional_probability):\n",
    "    x1 = get_index_from_value(X[0], list_x_name[0])\n",
    "    x2 = get_index_from_value(X[1], list_x_name[1])\n",
    "    x3 = get_index_from_value(X[2], list_x_name[2])\n",
    "    x4 = get_index_from_value(X[3], list_x_name[3])\n",
    "    \n",
    "    p0 = prior_probability[0]\n",
    "    p1 = prior_probability[1]\n",
    "    \n",
    "    p0 *= conditional_probability[0][\"Sunny\"][\"no\"] * conditional_probability[1][\"Cool\"][\"no\"] * conditional_probability[2][\"High\"][\"no\"] * conditional_probability[3][\"Strong\"][\"no\"]\n",
    "    p1 *= conditional_probability[0][\"Sunny\"][\"yes\"] * conditional_probability[1][\"Cool\"][\"yes\"] * conditional_probability[2][\"High\"][\"yes\"] * conditional_probability[3][\"Strong\"][\"yes\"]\n",
    "    \n",
    "    if p0 > p1:\n",
    "        y_pred = 0\n",
    "    else:\n",
    "        y_pred = 1\n",
    "    \n",
    "    return y_pred\n"
   ],
   "id": "723fd88dd639edd6",
   "outputs": [],
   "execution_count": 32
  },
  {
   "metadata": {
    "ExecuteTime": {
     "end_time": "2024-08-04T06:44:08.732768Z",
     "start_time": "2024-08-04T06:44:08.729944Z"
    }
   },
   "cell_type": "code",
   "source": [
    "X = ['Sunny', 'Cool', 'High', 'Strong']\n",
    "data = create_train_dataset()\n",
    "\n",
    "prior_probability, conditional_probability, list_x_name = train_naive_bayes(data)\n",
    "\n",
    "pred = prediction_play_tennis(X, list_x_name, prior_probability, conditional_probability)\n",
    "\n",
    "if pred:\n",
    "    print(\"Ad should go!\")\n",
    "else:\n",
    "    print(\"Ad should not go!\")\n"
   ],
   "id": "7d31cdbbedc05a72",
   "outputs": [
    {
     "name": "stdout",
     "output_type": "stream",
     "text": [
      "Ad should not go!\n"
     ]
    }
   ],
   "execution_count": 33
  },
  {
   "metadata": {},
   "cell_type": "code",
   "outputs": [],
   "execution_count": null,
   "source": "",
   "id": "163f379bf294d99e"
  }
 ],
 "metadata": {
  "kernelspec": {
   "display_name": "Python 3",
   "language": "python",
   "name": "python3"
  },
  "language_info": {
   "codemirror_mode": {
    "name": "ipython",
    "version": 2
   },
   "file_extension": ".py",
   "mimetype": "text/x-python",
   "name": "python",
   "nbconvert_exporter": "python",
   "pygments_lexer": "ipython2",
   "version": "2.7.6"
  }
 },
 "nbformat": 4,
 "nbformat_minor": 5
}
